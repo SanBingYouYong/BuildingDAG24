{
  "cells": [
    {
      "cell_type": "code",
      "execution_count": 1,
      "metadata": {
        "colab": {
          "base_uri": "https://localhost:8080/",
          "height": 75
        },
        "id": "8Bjj-uLEEgmV",
        "outputId": "7a18312a-87e1-4433-9ab4-0a0f0617ead0"
      },
      "outputs": [
        {
          "data": {
            "text/html": [
              "\n",
              "     <input type=\"file\" id=\"files-84f271e8-a7a0-4f8d-9e4b-b3b2794f8090\" name=\"files[]\" multiple disabled\n",
              "        style=\"border:none\" />\n",
              "     <output id=\"result-84f271e8-a7a0-4f8d-9e4b-b3b2794f8090\">\n",
              "      Upload widget is only available when the cell has been executed in the\n",
              "      current browser session. Please rerun this cell to enable.\n",
              "      </output>\n",
              "      <script>// Copyright 2017 Google LLC\n",
              "//\n",
              "// Licensed under the Apache License, Version 2.0 (the \"License\");\n",
              "// you may not use this file except in compliance with the License.\n",
              "// You may obtain a copy of the License at\n",
              "//\n",
              "//      http://www.apache.org/licenses/LICENSE-2.0\n",
              "//\n",
              "// Unless required by applicable law or agreed to in writing, software\n",
              "// distributed under the License is distributed on an \"AS IS\" BASIS,\n",
              "// WITHOUT WARRANTIES OR CONDITIONS OF ANY KIND, either express or implied.\n",
              "// See the License for the specific language governing permissions and\n",
              "// limitations under the License.\n",
              "\n",
              "/**\n",
              " * @fileoverview Helpers for google.colab Python module.\n",
              " */\n",
              "(function(scope) {\n",
              "function span(text, styleAttributes = {}) {\n",
              "  const element = document.createElement('span');\n",
              "  element.textContent = text;\n",
              "  for (const key of Object.keys(styleAttributes)) {\n",
              "    element.style[key] = styleAttributes[key];\n",
              "  }\n",
              "  return element;\n",
              "}\n",
              "\n",
              "// Max number of bytes which will be uploaded at a time.\n",
              "const MAX_PAYLOAD_SIZE = 100 * 1024;\n",
              "\n",
              "function _uploadFiles(inputId, outputId) {\n",
              "  const steps = uploadFilesStep(inputId, outputId);\n",
              "  const outputElement = document.getElementById(outputId);\n",
              "  // Cache steps on the outputElement to make it available for the next call\n",
              "  // to uploadFilesContinue from Python.\n",
              "  outputElement.steps = steps;\n",
              "\n",
              "  return _uploadFilesContinue(outputId);\n",
              "}\n",
              "\n",
              "// This is roughly an async generator (not supported in the browser yet),\n",
              "// where there are multiple asynchronous steps and the Python side is going\n",
              "// to poll for completion of each step.\n",
              "// This uses a Promise to block the python side on completion of each step,\n",
              "// then passes the result of the previous step as the input to the next step.\n",
              "function _uploadFilesContinue(outputId) {\n",
              "  const outputElement = document.getElementById(outputId);\n",
              "  const steps = outputElement.steps;\n",
              "\n",
              "  const next = steps.next(outputElement.lastPromiseValue);\n",
              "  return Promise.resolve(next.value.promise).then((value) => {\n",
              "    // Cache the last promise value to make it available to the next\n",
              "    // step of the generator.\n",
              "    outputElement.lastPromiseValue = value;\n",
              "    return next.value.response;\n",
              "  });\n",
              "}\n",
              "\n",
              "/**\n",
              " * Generator function which is called between each async step of the upload\n",
              " * process.\n",
              " * @param {string} inputId Element ID of the input file picker element.\n",
              " * @param {string} outputId Element ID of the output display.\n",
              " * @return {!Iterable<!Object>} Iterable of next steps.\n",
              " */\n",
              "function* uploadFilesStep(inputId, outputId) {\n",
              "  const inputElement = document.getElementById(inputId);\n",
              "  inputElement.disabled = false;\n",
              "\n",
              "  const outputElement = document.getElementById(outputId);\n",
              "  outputElement.innerHTML = '';\n",
              "\n",
              "  const pickedPromise = new Promise((resolve) => {\n",
              "    inputElement.addEventListener('change', (e) => {\n",
              "      resolve(e.target.files);\n",
              "    });\n",
              "  });\n",
              "\n",
              "  const cancel = document.createElement('button');\n",
              "  inputElement.parentElement.appendChild(cancel);\n",
              "  cancel.textContent = 'Cancel upload';\n",
              "  const cancelPromise = new Promise((resolve) => {\n",
              "    cancel.onclick = () => {\n",
              "      resolve(null);\n",
              "    };\n",
              "  });\n",
              "\n",
              "  // Wait for the user to pick the files.\n",
              "  const files = yield {\n",
              "    promise: Promise.race([pickedPromise, cancelPromise]),\n",
              "    response: {\n",
              "      action: 'starting',\n",
              "    }\n",
              "  };\n",
              "\n",
              "  cancel.remove();\n",
              "\n",
              "  // Disable the input element since further picks are not allowed.\n",
              "  inputElement.disabled = true;\n",
              "\n",
              "  if (!files) {\n",
              "    return {\n",
              "      response: {\n",
              "        action: 'complete',\n",
              "      }\n",
              "    };\n",
              "  }\n",
              "\n",
              "  for (const file of files) {\n",
              "    const li = document.createElement('li');\n",
              "    li.append(span(file.name, {fontWeight: 'bold'}));\n",
              "    li.append(span(\n",
              "        `(${file.type || 'n/a'}) - ${file.size} bytes, ` +\n",
              "        `last modified: ${\n",
              "            file.lastModifiedDate ? file.lastModifiedDate.toLocaleDateString() :\n",
              "                                    'n/a'} - `));\n",
              "    const percent = span('0% done');\n",
              "    li.appendChild(percent);\n",
              "\n",
              "    outputElement.appendChild(li);\n",
              "\n",
              "    const fileDataPromise = new Promise((resolve) => {\n",
              "      const reader = new FileReader();\n",
              "      reader.onload = (e) => {\n",
              "        resolve(e.target.result);\n",
              "      };\n",
              "      reader.readAsArrayBuffer(file);\n",
              "    });\n",
              "    // Wait for the data to be ready.\n",
              "    let fileData = yield {\n",
              "      promise: fileDataPromise,\n",
              "      response: {\n",
              "        action: 'continue',\n",
              "      }\n",
              "    };\n",
              "\n",
              "    // Use a chunked sending to avoid message size limits. See b/62115660.\n",
              "    let position = 0;\n",
              "    do {\n",
              "      const length = Math.min(fileData.byteLength - position, MAX_PAYLOAD_SIZE);\n",
              "      const chunk = new Uint8Array(fileData, position, length);\n",
              "      position += length;\n",
              "\n",
              "      const base64 = btoa(String.fromCharCode.apply(null, chunk));\n",
              "      yield {\n",
              "        response: {\n",
              "          action: 'append',\n",
              "          file: file.name,\n",
              "          data: base64,\n",
              "        },\n",
              "      };\n",
              "\n",
              "      let percentDone = fileData.byteLength === 0 ?\n",
              "          100 :\n",
              "          Math.round((position / fileData.byteLength) * 100);\n",
              "      percent.textContent = `${percentDone}% done`;\n",
              "\n",
              "    } while (position < fileData.byteLength);\n",
              "  }\n",
              "\n",
              "  // All done.\n",
              "  yield {\n",
              "    response: {\n",
              "      action: 'complete',\n",
              "    }\n",
              "  };\n",
              "}\n",
              "\n",
              "scope.google = scope.google || {};\n",
              "scope.google.colab = scope.google.colab || {};\n",
              "scope.google.colab._files = {\n",
              "  _uploadFiles,\n",
              "  _uploadFilesContinue,\n",
              "};\n",
              "})(self);\n",
              "</script> "
            ],
            "text/plain": [
              "<IPython.core.display.HTML object>"
            ]
          },
          "metadata": {},
          "output_type": "display_data"
        },
        {
          "name": "stdout",
          "output_type": "stream",
          "text": [
            "Saving test_dataset0202.zip to test_dataset0202.zip\n"
          ]
        }
      ],
      "source": [
        "from google.colab import files\n",
        "uploaded = files.upload()"
      ]
    },
    {
      "cell_type": "code",
      "execution_count": null,
      "metadata": {
        "id": "eVbpLXTJqMwy"
      },
      "outputs": [],
      "source": [
        "!unzip test_dataset0202.zip"
      ]
    },
    {
      "cell_type": "code",
      "execution_count": null,
      "metadata": {
        "id": "iTsGR1-3qgJw"
      },
      "outputs": [],
      "source": [
        "!mkdir datasets"
      ]
    },
    {
      "cell_type": "code",
      "execution_count": 5,
      "metadata": {
        "id": "nBdnVFxRqSil"
      },
      "outputs": [],
      "source": [
        "!mv test_dataset/ datasets/"
      ]
    },
    {
      "cell_type": "markdown",
      "metadata": {
        "id": "ID_yu-w5rj7K"
      },
      "source": [
        "# Formal"
      ]
    },
    {
      "cell_type": "code",
      "execution_count": 1,
      "metadata": {
        "id": "n6ByHoxLrIUQ"
      },
      "outputs": [],
      "source": [
        "import yaml\n",
        "import os\n",
        "import yaml\n",
        "from PIL import Image\n",
        "\n",
        "import torch\n",
        "import torch.nn as nn\n",
        "import torch.optim as optim\n",
        "from torch.utils.data import Dataset, DataLoader\n",
        "from torchvision import models, transforms"
      ]
    },
    {
      "cell_type": "code",
      "execution_count": 2,
      "metadata": {
        "id": "gsE1KxfDrNYe"
      },
      "outputs": [],
      "source": [
        "class Encoder(nn.Module):\n",
        "    def __init__(self):\n",
        "        super(Encoder, self).__init__()\n",
        "        self.features = nn.Sequential(\n",
        "            nn.Conv2d(1, 16, kernel_size=3, padding=1),  # size: 512x512\n",
        "            nn.ReLU(inplace=True),\n",
        "            nn.MaxPool2d(kernel_size=2, stride=2),  # size: 256x256\n",
        "            nn.Conv2d(16, 32, kernel_size=3, padding=1),  # size: 256x256\n",
        "            nn.ReLU(inplace=True),\n",
        "            nn.MaxPool2d(kernel_size=2, stride=2),  # size: 128x128\n",
        "            nn.Conv2d(32, 32, kernel_size=3, padding=1),  # size: 128x128\n",
        "            nn.ReLU(inplace=True),\n",
        "            nn.MaxPool2d(kernel_size=2, stride=2),  # size: 64x64\n",
        "            nn.Flatten(),\n",
        "            nn.Linear(32 * 64 * 64, 1024),  # size: 1024\n",
        "        )\n",
        "\n",
        "    def forward(self, x):\n",
        "        x = self.features(x)\n",
        "        return x"
      ]
    },
    {
      "cell_type": "code",
      "execution_count": 3,
      "metadata": {
        "id": "MY0InL3QrlfW"
      },
      "outputs": [],
      "source": [
        "class Decoder(nn.Module):\n",
        "    def __init__(self, input_size, output_size):\n",
        "        super(Decoder, self).__init__()\n",
        "        self.fc1 = nn.Linear(input_size, 256)\n",
        "        self.relu1 = nn.ReLU()\n",
        "        self.fc2 = nn.Linear(256, 128)\n",
        "        self.relu2 = nn.ReLU()\n",
        "        self.fc3 = nn.Linear(128, output_size)\n",
        "\n",
        "    def forward(self, x):\n",
        "        x = self.fc1(x)\n",
        "        x = self.relu1(x)\n",
        "        x = self.fc2(x)\n",
        "        x = self.relu2(x)\n",
        "        x = self.fc3(x)\n",
        "        return x"
      ]
    },
    {
      "cell_type": "code",
      "execution_count": null,
      "metadata": {},
      "outputs": [],
      "source": [
        "class MultiTailDecoder(nn.Module):\n",
        "    def __init__(self, input_size, classification_sizes=None, regression_size=None):\n",
        "        super(MultiTailDecoder, self).__init__()\n",
        "        self.fc1 = nn.Linear(input_size, 256)\n",
        "        self.relu1 = nn.ReLU()\n",
        "        self.fc2 = nn.Linear(256, 128)\n",
        "        self.relu2 = nn.ReLU()\n",
        "        self.classification_tails = [nn.Linear(128, size) for size in classification_sizes] if classification_sizes else []\n",
        "        self.regression_tail = nn.Linear(128, regression_size) if regression_size else None\n",
        "\n",
        "    def forward(self, x):\n",
        "        x = self.fc1(x)\n",
        "        x = self.relu1(x)\n",
        "        x = self.fc2(x)\n",
        "        x = self.relu2(x)\n",
        "        classification_outputs = [tail(x) for tail in self.classification_tails] if self.classification_tails else []\n",
        "        regression_output = self.regression_tail(x) if self.regression_tail else None\n",
        "        return classification_outputs, regression_output"
      ]
    },
    {
      "cell_type": "code",
      "execution_count": 4,
      "metadata": {
        "id": "8X957YwXrucK"
      },
      "outputs": [],
      "source": [
        "class EncoderDecoderModel(nn.Module):\n",
        "    def __init__(self, encoder, decoders):\n",
        "        super(EncoderDecoderModel, self).__init__()\n",
        "        self.encoder = encoder\n",
        "        self.decoders = decoders\n",
        "\n",
        "    def forward(self, x):\n",
        "        x = self.encoder(x)\n",
        "        batch_size = x.size(0)  # Get the batch size\n",
        "        x = x.view(batch_size, -1)  # Flatten the feature tensor, considering the batch size\n",
        "        decoder_outputs = {decoder_name: decoder(x) for decoder_name, decoder in self.decoders.items()}\n",
        "        return decoder_outputs  # note that the multi-tail decoder returns a list of outputs"
      ]
    },
    {
      "cell_type": "code",
      "execution_count": 5,
      "metadata": {
        "id": "q2AScdGjzxOp"
      },
      "outputs": [],
      "source": [
        "class DAGDataset(torch.utils.data.Dataset):\n",
        "    def __init__(self, dataset_name: str, datasets_folder: str=\"./datasets\", transform=None):\n",
        "        self.dataset_name = dataset_name\n",
        "        self.datasets_folder = datasets_folder\n",
        "        self.dataset_path = os.path.join(self.datasets_folder, self.dataset_name)\n",
        "        self.images_folder = os.path.join(self.dataset_path, \"images\")\n",
        "        self.params_folder = os.path.join(self.dataset_path, \"params\")\n",
        "        self.ranges_file_path = os.path.join(self.dataset_path, \"ranges.yml\")\n",
        "        self.ranges = None\n",
        "        self.decoders = None\n",
        "        self.transform = transforms.Compose(\n",
        "            [transforms.Resize((512, 512)), transforms.ToTensor(), transforms.Normalize((0.5,), (0.5,))]\n",
        "            ) if transform is None else transform\n",
        "        self.data = self.load_data()\n",
        "\n",
        "    def load_data(self):\n",
        "        # Load the ranges from the YAML file\n",
        "        with open(self.ranges_file_path, 'r') as file:\n",
        "            self.ranges = yaml.safe_load(file)\n",
        "        # Load the decoders from the YAML file\n",
        "        with open(os.path.join(self.dataset_path, \"decoders.yml\"), 'r') as file:\n",
        "            self.decoders = yaml.safe_load(file)\n",
        "        # read images and parameters\n",
        "        data = []\n",
        "        for image_name in os.listdir(self.images_folder):\n",
        "            image_path = os.path.join(self.images_folder, image_name)\n",
        "            param_path = os.path.join(self.params_folder, os.path.splitext(image_name)[0] + \".yml\")\n",
        "            with open(param_path, 'r') as file:\n",
        "                param = yaml.safe_load(file)\n",
        "            # normalize\n",
        "            param = self.preprocess(param)\n",
        "            param = self.format_target_to_decoders(param)\n",
        "            data.append((image_path, param))\n",
        "        return data\n",
        "    \n",
        "    def format_target_to_decoders(self, target):\n",
        "        formatted_target = {}\n",
        "        for decoder_name, decoder_params in self.decoders.items():\n",
        "            formatted_target[decoder_name] = {\n",
        "                \"classification_targets\": [],\n",
        "                \"regression_target\": []\n",
        "            }\n",
        "            for param_name in decoder_params:\n",
        "                param_type = self.ranges[param_name]['type']\n",
        "                if param_type == 'float' or param_type == 'int':\n",
        "                    formatted_target[decoder_name]['regression_target'].append(target[param_name])\n",
        "                elif param_type == 'vector':\n",
        "                    formatted_target[decoder_name]['regression_target'].extend(target[param_name])\n",
        "                elif param_type == 'states' or param_type == 'bool':\n",
        "                    formatted_target[decoder_name]['classification_targets'].append(target[param_name])\n",
        "        return formatted_target\n",
        "\n",
        "    def preprocess(self, param):\n",
        "        processed_param = {}\n",
        "        # for float and vector: normalize with min max\n",
        "        # for states, bool: convert to one hot\n",
        "        # for ints: treat as float, but round back to int when saving as param\n",
        "        for param_name, param_spec in self.ranges.items():\n",
        "            if param_spec['type'] == 'float' or param_spec['type'] == 'int' or param_spec['type'] == 'vector':\n",
        "                processed_param[param_name] = self.normalize(param[param_name], param_spec)\n",
        "            elif param_spec['type'] == 'states' or param_spec['type'] == 'bool':\n",
        "                processed_param[param_name] = self.one_hot(param[param_name], param_spec)\n",
        "            else:\n",
        "                raise ValueError(f\"Unsupported parameter type: {param_spec['type']}\")\n",
        "        return processed_param\n",
        "\n",
        "    def normalize(self, value, param_spec):\n",
        "        if param_spec['type'] == 'float' or param_spec['type'] == 'int':\n",
        "            return (value - param_spec['min']) / (param_spec['max'] - param_spec['min'])\n",
        "        elif param_spec['type'] == 'vector':\n",
        "            return [(value[i] - param_spec[f'{dim}min']) / (param_spec[f'{dim}max'] - param_spec[f'{dim}min']) for i, dim in enumerate(['x', 'y', 'z'])]\n",
        "        else:\n",
        "            raise ValueError(f\"Unsupported parameter type: {param_spec['type']}\")\n",
        "\n",
        "    def one_hot(self, value, param_spec):\n",
        "        if param_spec['type'] == 'states':\n",
        "            index = param_spec['values'].index(value)\n",
        "            return [1 if i == index else 0 for i in range(len(param_spec['values']))]\n",
        "        elif param_spec['type'] == 'bool':\n",
        "            # make bools onehot too to make it consistent\n",
        "            return [1, 0] if value else [0, 1]\n",
        "        else:\n",
        "            raise ValueError(f\"Unsupported parameter type: {param_spec['type']}\")\n",
        "\n",
        "\n",
        "    def __len__(self):\n",
        "        return len(self.data)\n",
        "\n",
        "    def __getitem__(self, idx):\n",
        "        sample, target = self.data[idx]\n",
        "        sample = Image.open(sample).convert('L')\n",
        "\n",
        "        if self.transform:\n",
        "            sample = self.transform(sample)\n",
        "\n",
        "        # convert target's values to tensor\n",
        "        for decoder_name, decoder_outputs in target.items():\n",
        "            for i, classification_target in enumerate(decoder_outputs['classification_targets']):\n",
        "                target[decoder_name]['classification_targets'][i] = torch.tensor(classification_target, dtype=torch.float32)\n",
        "            target[decoder_name]['regression_target'] = torch.tensor(decoder_outputs['regression_target'], dtype=torch.float32)\n",
        "\n",
        "        return sample, target"
      ]
    },
    {
      "cell_type": "code",
      "execution_count": 6,
      "metadata": {
        "id": "L1bCt3IKz2oT"
      },
      "outputs": [],
      "source": [
        "dataset = DAGDataset(\"test_dataset\")"
      ]
    },
    {
      "cell_type": "code",
      "execution_count": 7,
      "metadata": {
        "colab": {
          "base_uri": "https://localhost:8080/"
        },
        "id": "4JF9dibv02vb",
        "outputId": "4a9df7c9-f651-427b-ed95-4573c6177db0"
      },
      "outputs": [
        {
          "data": {
            "text/plain": [
              "(tensor([[[1., 1., 1.,  ..., 1., 1., 1.],\n",
              "          [1., 1., 1.,  ..., 1., 1., 1.],\n",
              "          [1., 1., 1.,  ..., 1., 1., 1.],\n",
              "          ...,\n",
              "          [1., 1., 1.,  ..., 1., 1., 1.],\n",
              "          [1., 1., 1.,  ..., 1., 1., 1.],\n",
              "          [1., 1., 1.,  ..., 1., 1., 1.]]]),\n",
              " {'Bm Base Shape': tensor([0., 1.]),\n",
              "  'Bm Size': tensor([0.2754, 0.3033, 0.5714]),\n",
              "  'Floor Ledge Extrusion X': tensor(0.7033),\n",
              "  'Floor Ledge Extrusion Z': tensor(0.8891),\n",
              "  'Floor Ledge Size X': tensor(0.4263),\n",
              "  'Floor Ledge Size Z': tensor(0.1645),\n",
              "  'Has Floor Ledge': tensor([1., 0.]),\n",
              "  'Has Window Ledge': tensor([1., 0.]),\n",
              "  'Num Floors': tensor(0.7500),\n",
              "  'Num Windows Each Side': tensor(0.2500),\n",
              "  'Rf Base Shape': tensor([0., 1., 0.]),\n",
              "  'Rf Size': tensor([0.5063, 0.8231, 0.9543]),\n",
              "  'Window Divided Horizontal': tensor([1., 0.]),\n",
              "  'Window Divided Vertical': tensor([0., 1.]),\n",
              "  'Window Interpanel Offset Percentage Y': tensor(0.8371),\n",
              "  'Window Interpanel Offset Percentage Z': tensor(0.9874),\n",
              "  'Window Ledge Extrusion X': tensor(0.3547),\n",
              "  'Window Ledge Extrusion Z': tensor(0.5499),\n",
              "  'Window Ledge Shape Size': tensor([0.3239, 0.3608, 0.2882]),\n",
              "  'Window Ledges Height Offset': tensor(0.1825),\n",
              "  'Window Panel Area': tensor([0.6837, 0.5403, 0.6459]),\n",
              "  'Window Shape Size': tensor([0.2727, 0.3550, 0.0471]),\n",
              "  'Windows Height Offset': tensor(0.5925),\n",
              "  'Windows Left Right Offset': tensor(0.1235)})"
            ]
          },
          "execution_count": 7,
          "metadata": {},
          "output_type": "execute_result"
        }
      ],
      "source": [
        "dataset.__getitem__(0)"
      ]
    },
    {
      "cell_type": "code",
      "execution_count": 8,
      "metadata": {
        "id": "TvkS5mZD388J"
      },
      "outputs": [],
      "source": [
        "# split into train val and test\n",
        "train_size = int(0.8 * len(dataset))\n",
        "val_size = int(0.1 * len(dataset))\n",
        "test_size = len(dataset) - train_size - val_size\n",
        "train_dataset, val_dataset, test_dataset = torch.utils.data.random_split(dataset, [train_size, val_size, test_size])\n",
        "\n",
        "# Create DataLoader\n",
        "batch_size = 32\n",
        "train_loader = torch.utils.data.DataLoader(train_dataset, batch_size=batch_size, shuffle=True)\n",
        "val_loader = torch.utils.data.DataLoader(val_dataset, batch_size=batch_size, shuffle=True)\n",
        "test_loader = torch.utils.data.DataLoader(test_dataset, batch_size=batch_size, shuffle=True)"
      ]
    },
    {
      "cell_type": "code",
      "execution_count": null,
      "metadata": {},
      "outputs": [],
      "source": [
        "encoder = Encoder()"
      ]
    },
    {
      "cell_type": "code",
      "execution_count": 9,
      "metadata": {
        "id": "6yO4jzvP4AdE"
      },
      "outputs": [],
      "source": [
        "# Load the ranges from the YAML file\n",
        "with open('./datasets/test_dataset/ranges.yml', 'r') as file:\n",
        "    ranges = yaml.safe_load(file)\n",
        "\n",
        "# Create a mapping between parameter names and output sizes\n",
        "parameter_output_mapping = {}\n",
        "for param_name, param_specs in ranges.items():\n",
        "    if param_specs['type'] == 'float':\n",
        "        parameter_output_mapping[param_name] = 1  # 1 for scalar\n",
        "    elif param_specs['type'] == 'int':\n",
        "        parameter_output_mapping[param_name] = 1  # 1 for scalar\n",
        "    elif param_specs['type'] == 'vector':\n",
        "        parameter_output_mapping[param_name] = 3  # 3 for x, y, z\n",
        "    elif param_specs['type'] == 'states':\n",
        "        parameter_output_mapping[param_name] = len(param_specs['values'])\n",
        "    elif param_specs['type'] == 'bool':\n",
        "        parameter_output_mapping[param_name] = 2  # 2 for binary encoding"
      ]
    },
    {
      "cell_type": "code",
      "execution_count": null,
      "metadata": {},
      "outputs": [],
      "source": [
        "# Load the decoders' params from the YAML file\n",
        "with open('./datasets/test_dataset/decoders.yml', 'r') as file:\n",
        "    decoders_params = yaml.safe_load(file)\n",
        "\n",
        "decoders = nn.ModuleDict()\n",
        "# initialize decoders with corresponding output tails\n",
        "for decoder_name, param_names in decoders_params.items():\n",
        "    classification_tails = []\n",
        "    regression_tails = []\n",
        "    for param_name in param_names:\n",
        "        spec = ranges[param_name]\n",
        "        # if type is bool or states, add to classification tails\n",
        "        # if type is float, int or vector, add to regression tails\n",
        "        if spec['type'] == 'bool' or spec['type'] == 'states':\n",
        "            classification_tails.append((param_name, parameter_output_mapping[param_name]))\n",
        "        else:\n",
        "            regression_tails.append((param_name, parameter_output_mapping[param_name]))\n",
        "    classification_sizes = [size for _, size in classification_tails]\n",
        "    regression_size = sum([size for _, size in regression_tails])\n",
        "    # add decoder to model\n",
        "    decoders[decoder_name] = MultiTailDecoder(1024, classification_sizes, regression_size)\n",
        "\n",
        "# decoders = nn.ModuleDict({\n",
        "#     param_name: Decoder(4096, output_size)\n",
        "#     for param_name, output_size in parameter_output_mapping.items()\n",
        "# })"
      ]
    },
    {
      "cell_type": "code",
      "execution_count": null,
      "metadata": {},
      "outputs": [],
      "source": [
        "model = EncoderDecoderModel(encoder, decoders)"
      ]
    },
    {
      "cell_type": "code",
      "execution_count": 10,
      "metadata": {
        "id": "hZjAuQP34XMR"
      },
      "outputs": [],
      "source": [
        "# Define loss function and optimizer\n",
        "# for regression, use MSELoss, for classification, use CrossEntropyLoss\n",
        "class EncDecsLoss(nn.Module):\n",
        "    def __init__(self, decoders):\n",
        "        super(EncDecsLoss, self).__init__()\n",
        "        self.decoders = decoders\n",
        "\n",
        "    def forward(self, outputs, targets):\n",
        "        loss = 0.0\n",
        "        for decoder_name, decoder_output in outputs.items():\n",
        "            loss += decoder_loss(decoder_name, decoder_output, targets[decoder_name])\n",
        "        return loss\n",
        "    \n",
        "def classification_loss(output, target):\n",
        "    return nn.CrossEntropyLoss()(output, target)\n",
        "\n",
        "def regression_loss(output, target):\n",
        "    return nn.MSELoss()(output, target)\n",
        "\n",
        "# def find_param_name_in(target, param_name):\n",
        "#     for decoder_name, decoder_outputs in target.items():\n",
        "#         for i, classification_target in enumerate(decoder_outputs['classification_targets']):\n",
        "#             if param_name == \n",
        "#     return None\n",
        "\n",
        "def decoder_loss(decoder_name, decoder_output, target):\n",
        "    '''\n",
        "    If classification param name ( from targets[decoder_name][i] ) is \"Has ___\", \n",
        "        and it's predicted wrongly, \n",
        "        discard loss from other tasks.\n",
        "    Window divided bools: when got wrong, discard loss for interpanel offset too \n",
        "    '''\n",
        "    classification_outputs = decoder_output[0]  # note that model outputs a tuple of list instead of dict of list\n",
        "    regression_output = decoder_output[1]\n",
        "    loss = 0.0\n",
        "    if classification_outputs:\n",
        "        for i, output in enumerate(classification_outputs):\n",
        "            gt = target[\"classification_targets\"][i]\n",
        "            loss += classification_loss(output, gt)\n",
        "            # check for bools by checking one-hot vector of size 2\n",
        "            if gt.size(1) == 2:\n",
        "                if gt.argmax() != output.argmax():\n",
        "                    # if got wrong, discard loss from other tasks\n",
        "                    if \"Ledge\" in decoder_name:\n",
        "                        return loss  # wait, will this loss still affect other tails? \n",
        "                    elif \"Panel\" in decoder_name:\n",
        "                        return loss  # TODO: discard only loss from interpanel offset in regression part\n",
        "    if regression_output is not None:\n",
        "        loss += regression_loss(regression_output, target[\"regression_target\"])\n",
        "    return loss\n",
        "\n",
        "criterion = EncDecsLoss(decoders)\n",
        "optimizer = optim.Adam(model.parameters(), lr=0.001)"
      ]
    },
    {
      "cell_type": "code",
      "execution_count": null,
      "metadata": {
        "colab": {
          "base_uri": "https://localhost:8080/"
        },
        "id": "kC14_rhM4diP",
        "outputId": "7bbef965-fc01-407e-e791-07a4dd85932c"
      },
      "outputs": [
        {
          "name": "stderr",
          "output_type": "stream",
          "text": [
            "<ipython-input-5-f3d6d4ff1172>:76: UserWarning: To copy construct from a tensor, it is recommended to use sourceTensor.clone().detach() or sourceTensor.clone().detach().requires_grad_(True), rather than torch.tensor(sourceTensor).\n",
            "  target[key] = torch.tensor(value, dtype=torch.float32)\n",
            "/usr/local/lib/python3.10/dist-packages/torch/nn/modules/loss.py:535: UserWarning: Using a target size (torch.Size([32])) that is different to the input size (torch.Size([32, 1])). This will likely lead to incorrect results due to broadcasting. Please ensure they have the same size.\n",
            "  return F.mse_loss(input, target, reduction=self.reduction)\n"
          ]
        }
      ],
      "source": [
        "# Training loop with train and val\n",
        "epochs = 10\n",
        "for epoch in range(epochs):\n",
        "    model.train()\n",
        "    running_loss = 0.0\n",
        "    for i, data in enumerate(train_loader, 0):\n",
        "        inputs, targets = data\n",
        "        optimizer.zero_grad()\n",
        "        outputs = model(inputs)\n",
        "        loss = criterion(outputs, targets)\n",
        "        loss.backward()\n",
        "        optimizer.step()\n",
        "        running_loss += loss.item()\n",
        "        if i % 2000 == 1999:  # print every 2000 mini-batches\n",
        "            print(f\"[{epoch + 1}, {i + 1}] loss: {running_loss / 2000:.3f}\")\n",
        "            running_loss = 0.0\n",
        "    # Validation\n",
        "    model.eval()\n",
        "    val_loss = 0.0\n",
        "    with torch.no_grad():\n",
        "        for i, data in enumerate(val_loader, 0):\n",
        "            inputs, targets = data\n",
        "            outputs = model(inputs)\n",
        "            loss = criterion(outputs, targets)\n",
        "            val_loss += loss.item()\n",
        "        print(f\"Validation loss: {val_loss / len(val_loader)}\")\n",
        "\n",
        "print(\"Finished Training\")\n",
        "\n",
        "# Save your trained model if needed\n",
        "torch.save(model.state_dict(), \"encDecModel.pth\")"
      ]
    },
    {
      "cell_type": "code",
      "execution_count": null,
      "metadata": {
        "id": "3ebjbXc74dne"
      },
      "outputs": [],
      "source": [
        "# Test the model\n",
        "model.eval()\n",
        "test_loss = 0.0\n",
        "with torch.no_grad():\n",
        "    for i, data in enumerate(test_loader, 0):\n",
        "        inputs, targets = data\n",
        "        outputs = model(inputs)\n",
        "        loss = criterion(outputs, targets)\n",
        "        test_loss += loss.item()\n",
        "    print(f\"Test loss: {test_loss / len(test_loader)}\")\n",
        "print(\"Finished Testing\")"
      ]
    }
  ],
  "metadata": {
    "accelerator": "TPU",
    "colab": {
      "provenance": []
    },
    "kernelspec": {
      "display_name": "Python 3",
      "name": "python3"
    },
    "language_info": {
      "name": "python"
    }
  },
  "nbformat": 4,
  "nbformat_minor": 0
}
