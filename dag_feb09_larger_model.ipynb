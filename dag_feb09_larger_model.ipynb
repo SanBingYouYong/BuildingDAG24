{
  "cells": [
    {
      "cell_type": "code",
      "execution_count": 1,
      "metadata": {
        "colab": {
          "base_uri": "https://localhost:8080/",
          "height": 75
        },
        "id": "8Bjj-uLEEgmV",
        "outputId": "a1b2c418-c40c-4842-c1b5-39cc337bfd87"
      },
      "outputs": [],
      "source": [
        "# from google.colab import files\n",
        "# uploaded = files.upload()"
      ]
    },
    {
      "cell_type": "code",
      "execution_count": 2,
      "metadata": {
        "colab": {
          "base_uri": "https://localhost:8080/"
        },
        "id": "iTsGR1-3qgJw",
        "outputId": "ed7c4004-a710-4b2b-90fb-811a87a7600a"
      },
      "outputs": [],
      "source": [
        "# !mkdir datasets"
      ]
    },
    {
      "cell_type": "code",
      "execution_count": 3,
      "metadata": {
        "id": "eVbpLXTJqMwy"
      },
      "outputs": [],
      "source": [
        "# !unzip test_dataset0202.zip"
      ]
    },
    {
      "cell_type": "code",
      "execution_count": 4,
      "metadata": {
        "id": "nBdnVFxRqSil"
      },
      "outputs": [],
      "source": [
        "# !mv test_dataset/ datasets/"
      ]
    },
    {
      "cell_type": "code",
      "execution_count": 5,
      "metadata": {
        "id": "FLr8TCZ04fYS"
      },
      "outputs": [],
      "source": [
        "# !mv decoders.yml datasets/test_dataset"
      ]
    },
    {
      "cell_type": "markdown",
      "metadata": {
        "id": "ID_yu-w5rj7K"
      },
      "source": [
        "# Formal"
      ]
    },
    {
      "cell_type": "code",
      "execution_count": 6,
      "metadata": {
        "id": "n6ByHoxLrIUQ"
      },
      "outputs": [],
      "source": [
        "import yaml\n",
        "import os\n",
        "from PIL import Image\n",
        "\n",
        "import torch\n",
        "import torch.nn as nn\n",
        "import torch.optim as optim\n",
        "from torch.utils.data import Dataset, DataLoader\n",
        "from torchvision import models, transforms"
      ]
    },
    {
      "cell_type": "code",
      "execution_count": 7,
      "metadata": {
        "id": "gsE1KxfDrNYe"
      },
      "outputs": [],
      "source": [
        "class Encoder(nn.Module):\n",
        "    def __init__(self):\n",
        "        super(Encoder, self).__init__()\n",
        "        self.features = nn.Sequential(\n",
        "            nn.Conv2d(1, 16, kernel_size=3, padding=1),  # size: 512x512\n",
        "            nn.ReLU(inplace=True),\n",
        "            nn.MaxPool2d(kernel_size=2, stride=2),  # size: 256x256\n",
        "            nn.Conv2d(16, 32, kernel_size=3, padding=1),  # size: 256x256\n",
        "            nn.ReLU(inplace=True),\n",
        "            nn.MaxPool2d(kernel_size=2, stride=2),  # size: 128x128\n",
        "            nn.Conv2d(32, 32, kernel_size=3, padding=1),  # size: 128x128\n",
        "            nn.ReLU(inplace=True),\n",
        "            nn.MaxPool2d(kernel_size=2, stride=2),  # size: 64x64\n",
        "            nn.Flatten(),\n",
        "            nn.Linear(32 * 64 * 64, 1024),  # size: 1024\n",
        "        )\n",
        "\n",
        "    def forward(self, x):\n",
        "        x = self.features(x)\n",
        "        return x"
      ]
    },
    {
      "cell_type": "code",
      "execution_count": 8,
      "metadata": {},
      "outputs": [],
      "source": [
        "import torch.nn as nn\n",
        "\n",
        "class ParamAwareMultiTailDecoder(nn.Module):\n",
        "    def __init__(self, input_size, classification_params=None, regression_params=None, dropout_prob=0.5):\n",
        "        super(ParamAwareMultiTailDecoder, self).__init__()\n",
        "        self.fc1 = nn.Linear(input_size, 1024)\n",
        "        self.relu1 = nn.ReLU()\n",
        "        self.dropout1 = nn.Dropout(p=dropout_prob)\n",
        "        self.fc2 = nn.Linear(1024, 1024)\n",
        "        self.relu2 = nn.ReLU()\n",
        "        self.dropout2 = nn.Dropout(p=dropout_prob)\n",
        "        self.fc3 = nn.Linear(1024, 512)\n",
        "        self.relu3 = nn.ReLU()\n",
        "        self.dropout3 = nn.Dropout(p=dropout_prob)\n",
        "        self.fc4 = nn.Linear(512, 512)\n",
        "        self.relu4 = nn.ReLU()\n",
        "        self.dropout4 = nn.Dropout(p=dropout_prob)\n",
        "        \n",
        "        self.classification_tails = nn.ModuleDict(\n",
        "            {\n",
        "                param_name: nn.Sequential(\n",
        "                    nn.Linear(512, size),\n",
        "                    nn.Softmax(dim=1),\n",
        "                )\n",
        "                for param_name, size in classification_params.items()\n",
        "            }\n",
        "        ) if classification_params else {}\n",
        "\n",
        "        self.regression_tail = nn.ModuleDict(\n",
        "            {\n",
        "                param_name: nn.Sequential(\n",
        "                    nn.Linear(512, 512),\n",
        "                    nn.ReLU(),\n",
        "                    nn.Dropout(p=dropout_prob),\n",
        "                    nn.Linear(512, 512),\n",
        "                    nn.ReLU(),\n",
        "                    nn.Dropout(p=dropout_prob),\n",
        "                    nn.Linear(512, 512),\n",
        "                    nn.ReLU(),\n",
        "                    nn.Dropout(p=dropout_prob),\n",
        "                    nn.Linear(512, 256),\n",
        "                    nn.ReLU(),\n",
        "                    nn.Dropout(p=dropout_prob),\n",
        "                    nn.Linear(256, 128),\n",
        "                    nn.ReLU(),\n",
        "                    nn.Dropout(p=dropout_prob),\n",
        "                    nn.Linear(128, size),\n",
        "                )\n",
        "                for param_name, size in regression_params.items()\n",
        "            }\n",
        "        ) if regression_params else {}\n",
        "\n",
        "    def forward(self, x):\n",
        "        x = self.fc1(x)\n",
        "        x = self.relu1(x)\n",
        "        x = self.dropout1(x)\n",
        "        x = self.fc2(x)\n",
        "        x = self.relu2(x)\n",
        "        x = self.dropout2(x)\n",
        "        x = self.fc3(x)\n",
        "        x = self.relu3(x)\n",
        "        x = self.dropout3(x)\n",
        "        x = self.fc4(x)\n",
        "        x = self.relu4(x)\n",
        "        x = self.dropout4(x)\n",
        "        classification_outputs = {\n",
        "            param_name: tail(x) for param_name, tail in self.classification_tails.items()\n",
        "        } if self.classification_tails else {}\n",
        "        regression_output = {\n",
        "            param_name: tail(x) for param_name, tail in self.regression_tail.items()\n",
        "        } if self.regression_tail else {}\n",
        "        return classification_outputs, regression_output\n"
      ]
    },
    {
      "cell_type": "code",
      "execution_count": 9,
      "metadata": {
        "id": "8X957YwXrucK"
      },
      "outputs": [],
      "source": [
        "class EncoderDecoderModel(nn.Module):\n",
        "    def __init__(self, encoder, decoders):\n",
        "        super(EncoderDecoderModel, self).__init__()\n",
        "        self.encoder = encoder\n",
        "        self.decoders = decoders\n",
        "\n",
        "    def forward(self, x):\n",
        "        x = self.encoder(x)\n",
        "        batch_size = x.size(0)  # Get the batch size\n",
        "        x = x.view(batch_size, -1)  # Flatten the feature tensor, considering the batch size\n",
        "        decoder_outputs = {decoder_name: decoder(x) for decoder_name, decoder in self.decoders.items()}\n",
        "        return decoder_outputs  # note that the multi-tail decoder returns a list of outputs"
      ]
    },
    {
      "cell_type": "code",
      "execution_count": 10,
      "metadata": {
        "id": "q2AScdGjzxOp"
      },
      "outputs": [],
      "source": [
        "class DAGDataset(torch.utils.data.Dataset):\n",
        "    def __init__(self, dataset_name: str, datasets_folder: str=\"./datasets\", transform=None, device=None):\n",
        "        self.dataset_name = dataset_name\n",
        "        self.datasets_folder = datasets_folder\n",
        "        self.dataset_path = os.path.join(self.datasets_folder, self.dataset_name)\n",
        "        self.images_folder = os.path.join(self.dataset_path, \"images\")\n",
        "        self.params_folder = os.path.join(self.dataset_path, \"params\")\n",
        "        self.ranges_file_path = os.path.join(self.dataset_path, \"ranges.yml\")\n",
        "        self.ranges = None\n",
        "        self.decoders = None\n",
        "        self.transform = transforms.Compose(\n",
        "            [transforms.Resize((512, 512)), transforms.ToTensor(), transforms.Normalize((0.5,), (0.5,))]\n",
        "            ) if transform is None else transform\n",
        "        self.data = self.load_data()\n",
        "        self.device = torch.device(\"cuda\" if torch.cuda.is_available() else \"cpu\") if device is None else device\n",
        "\n",
        "    def load_data(self):\n",
        "        # Load the ranges from the YAML file\n",
        "        with open(self.ranges_file_path, 'r') as file:\n",
        "            self.ranges = yaml.safe_load(file)\n",
        "        # Load the decoders from the YAML file\n",
        "        with open(os.path.join(self.dataset_path, \"decoders.yml\"), 'r') as file:\n",
        "            self.decoders = yaml.safe_load(file)\n",
        "        # read images and parameters\n",
        "        data = []\n",
        "        for image_name in os.listdir(self.images_folder):\n",
        "            image_path = os.path.join(self.images_folder, image_name)\n",
        "            param_path = os.path.join(self.params_folder, os.path.splitext(image_name)[0] + \".yml\")\n",
        "            with open(param_path, 'r') as file:\n",
        "                param = yaml.safe_load(file)\n",
        "            # normalize\n",
        "            param = self.preprocess(param)\n",
        "            param = self.format_target_to_decoders(param)\n",
        "            data.append((image_path, param))\n",
        "        return data\n",
        "\n",
        "    def format_target_to_decoders(self, target):\n",
        "        formatted_target = {}\n",
        "        for decoder_name, decoder_params in self.decoders.items():\n",
        "            formatted_target[decoder_name] = {\n",
        "                \"classification_targets\": {},\n",
        "                \"regression_target\": {}\n",
        "            }\n",
        "            for param_name in decoder_params:\n",
        "                param_type = self.ranges[param_name]['type']\n",
        "                if param_type == 'float' or param_type == 'int' or param_type == 'vector':\n",
        "                    formatted_target[decoder_name]['regression_target'][param_name] = target[param_name]\n",
        "                elif param_type == 'states' or param_type == 'bool':\n",
        "                    formatted_target[decoder_name]['classification_targets'][param_name] = target[param_name]\n",
        "        return formatted_target\n",
        "\n",
        "    def preprocess(self, param):\n",
        "        processed_param = {}\n",
        "        # for float and vector: normalize with min max\n",
        "        # for states, bool: convert to one hot\n",
        "        # for ints: treat as float, but round back to int when saving as param\n",
        "        for param_name, param_spec in self.ranges.items():\n",
        "            if param_spec['type'] == 'float' or param_spec['type'] == 'int' or param_spec['type'] == 'vector':\n",
        "                processed_param[param_name] = self.normalize(param[param_name], param_spec)\n",
        "            elif param_spec['type'] == 'states' or param_spec['type'] == 'bool':\n",
        "                processed_param[param_name] = self.one_hot(param[param_name], param_spec)\n",
        "            else:\n",
        "                raise ValueError(f\"Unsupported parameter type: {param_spec['type']}\")\n",
        "        return processed_param\n",
        "\n",
        "    def normalize(self, value, param_spec):\n",
        "        if param_spec['type'] == 'float' or param_spec['type'] == 'int':\n",
        "            return (value - param_spec['min']) / (param_spec['max'] - param_spec['min'])\n",
        "        elif param_spec['type'] == 'vector':\n",
        "            return [(value[i] - param_spec[f'{dim}min']) / (param_spec[f'{dim}max'] - param_spec[f'{dim}min']) for i, dim in enumerate(['x', 'y', 'z'])]\n",
        "        else:\n",
        "            raise ValueError(f\"Unsupported parameter type: {param_spec['type']}\")\n",
        "\n",
        "    def one_hot(self, value, param_spec):\n",
        "        if param_spec['type'] == 'states':\n",
        "            index = param_spec['values'].index(value)\n",
        "            return [1 if i == index else 0 for i in range(len(param_spec['values']))]\n",
        "        elif param_spec['type'] == 'bool':\n",
        "            # make bools onehot too to make it consistent\n",
        "            return [1, 0] if value else [0, 1]\n",
        "        else:\n",
        "            raise ValueError(f\"Unsupported parameter type: {param_spec['type']}\")\n",
        "\n",
        "\n",
        "    def __len__(self):\n",
        "        return len(self.data)\n",
        "\n",
        "    def __getitem__(self, idx):\n",
        "        sample, target = self.data[idx]\n",
        "        sample = Image.open(sample).convert('L')\n",
        "\n",
        "        if self.transform:\n",
        "            sample = self.transform(sample)\n",
        "\n",
        "        # convert target's values to tensor\n",
        "        for decoder_name, decoder_outputs in target.items():\n",
        "            # check if is tensor\n",
        "            for classification_target in decoder_outputs['classification_targets']:\n",
        "                if not torch.is_tensor(decoder_outputs['classification_targets'][classification_target]):\n",
        "                    target[decoder_name]['classification_targets'][classification_target] = torch.tensor(decoder_outputs['classification_targets'][classification_target], dtype=torch.float32)\n",
        "            for regression_target in decoder_outputs['regression_target']:\n",
        "                if not torch.is_tensor(decoder_outputs['regression_target'][regression_target]):\n",
        "                    target[decoder_name]['regression_target'][regression_target] = torch.tensor(decoder_outputs['regression_target'][regression_target], dtype=torch.float32)\n",
        "\n",
        "        # move to device\n",
        "        sample = sample.to(self.device)\n",
        "        target = {decoder_name: {task: {param_name: param.to(self.device) for param_name, param in task_params.items()} for task, task_params in decoder_outputs.items()} for decoder_name, decoder_outputs in target.items()}\n",
        "\n",
        "        return sample, target"
      ]
    },
    {
      "cell_type": "code",
      "execution_count": 11,
      "metadata": {},
      "outputs": [],
      "source": [
        "dataset_name = \"DAGDataset100_100_5\""
      ]
    },
    {
      "cell_type": "code",
      "execution_count": 12,
      "metadata": {
        "id": "L1bCt3IKz2oT"
      },
      "outputs": [],
      "source": [
        "dataset = DAGDataset(dataset_name)"
      ]
    },
    {
      "cell_type": "code",
      "execution_count": null,
      "metadata": {
        "colab": {
          "base_uri": "https://localhost:8080/"
        },
        "id": "4JF9dibv02vb",
        "outputId": "47b8d5d5-209b-4e4f-c114-fb945c2c2884"
      },
      "outputs": [
        {
          "data": {
            "text/plain": [
              "(tensor([[[1., 1., 1.,  ..., 1., 1., 1.],\n",
              "          [1., 1., 1.,  ..., 1., 1., 1.],\n",
              "          [1., 1., 1.,  ..., 1., 1., 1.],\n",
              "          ...,\n",
              "          [1., 1., 1.,  ..., 1., 1., 1.],\n",
              "          [1., 1., 1.,  ..., 1., 1., 1.],\n",
              "          [1., 1., 1.,  ..., 1., 1., 1.]]], device='cuda:0'),\n",
              " {'Building Mass Decoder': {'classification_targets': {'Bm Base Shape': tensor([0., 1.], device='cuda:0')},\n",
              "   'regression_target': {'Bm Size': tensor([0.2988, 0.7557, 0.6970], device='cuda:0')}},\n",
              "  'Facade Decoder': {'classification_targets': {},\n",
              "   'regression_target': {'Num Floors': tensor(0.5000, device='cuda:0'),\n",
              "    'Num Windows Each Side': tensor(0.5000, device='cuda:0')}},\n",
              "  'Floor Ledge Decoder': {'classification_targets': {'Has Floor Ledge': tensor([1., 0.], device='cuda:0')},\n",
              "   'regression_target': {'Floor Ledge Size X': tensor(0.5630, device='cuda:0'),\n",
              "    'Floor Ledge Size Z': tensor(0.2744, device='cuda:0'),\n",
              "    'Floor Ledge Extrusion X': tensor(0.1379, device='cuda:0'),\n",
              "    'Floor Ledge Extrusion Z': tensor(0.3953, device='cuda:0')}},\n",
              "  'Roof Decoder': {'classification_targets': {'Rf Base Shape': tensor([1., 0., 0.], device='cuda:0')},\n",
              "   'regression_target': {'Rf Size': tensor([0.0988, 0.0364, 0.8324], device='cuda:0')}},\n",
              "  'Window Ledge Decoder': {'classification_targets': {'Has Window Ledge': tensor([1., 0.], device='cuda:0')},\n",
              "   'regression_target': {'Window Ledge Shape Size': tensor([0.1017, 0.5129, 0.8238], device='cuda:0'),\n",
              "    'Window Ledge Extrusion X': tensor(0.7035, device='cuda:0'),\n",
              "    'Window Ledge Extrusion Z': tensor(0.5631, device='cuda:0'),\n",
              "    'Window Ledges Height Offset': tensor(0.2444, device='cuda:0')}},\n",
              "  'Window Main Decoder': {'classification_targets': {},\n",
              "   'regression_target': {'Windows Left Right Offset': tensor(0.7904, device='cuda:0'),\n",
              "    'Windows Height Offset': tensor(0.0493, device='cuda:0'),\n",
              "    'Window Shape Size': tensor([0.8100, 0.7198, 0.3048], device='cuda:0')}},\n",
              "  'Window Panel Decoder': {'classification_targets': {'Window Divided Horizontal': tensor([1., 0.], device='cuda:0'),\n",
              "    'Window Divided Vertical': tensor([0., 1.], device='cuda:0')},\n",
              "   'regression_target': {'Window Panel Area': tensor([0.7388, 0.5524, 0.3105], device='cuda:0'),\n",
              "    'Window Interpanel Offset Percentage Y': tensor(0.4359, device='cuda:0'),\n",
              "    'Window Interpanel Offset Percentage Z': tensor(0.3754, device='cuda:0')}}})"
            ]
          },
          "execution_count": 13,
          "metadata": {},
          "output_type": "execute_result"
        }
      ],
      "source": [
        "dataset.__getitem__(0)"
      ]
    },
    {
      "cell_type": "code",
      "execution_count": null,
      "metadata": {},
      "outputs": [
        {
          "name": "stdout",
          "output_type": "stream",
          "text": [
            "3\n",
            "0\n",
            "1\n"
          ]
        }
      ],
      "source": [
        "# # Intentional overfit\n",
        "\n",
        "# # split into train val and test\n",
        "# train_size = int(0.8 * len(dataset))\n",
        "# print(train_size)\n",
        "# val_size = int(0.1 * len(dataset))\n",
        "# print(val_size)\n",
        "# test_size = len(dataset) - train_size - val_size\n",
        "# print(test_size)\n",
        "# train_dataset, val_dataset, test_dataset = torch.utils.data.random_split(dataset, [train_size, val_size, test_size])\n",
        "\n",
        "# # Create DataLoader\n",
        "# batch_size = 32\n",
        "# train_loader = torch.utils.data.DataLoader(train_dataset, batch_size=batch_size, shuffle=True)\n",
        "# val_loader = torch.utils.data.DataLoader(train_dataset, batch_size=batch_size, shuffle=True)\n",
        "# test_loader = torch.utils.data.DataLoader(train_dataset, batch_size=batch_size, shuffle=True)"
      ]
    },
    {
      "cell_type": "code",
      "execution_count": null,
      "metadata": {
        "id": "TvkS5mZD388J"
      },
      "outputs": [],
      "source": [
        "# split into train val and test\n",
        "train_size = int(0.8 * len(dataset))\n",
        "print(train_size)\n",
        "val_size = int(0.1 * len(dataset))\n",
        "print(val_size)\n",
        "test_size = len(dataset) - train_size - val_size\n",
        "print(test_size)\n",
        "train_dataset, val_dataset, test_dataset = torch.utils.data.random_split(dataset, [train_size, val_size, test_size])\n",
        "\n",
        "# Create DataLoader\n",
        "batch_size = 32\n",
        "train_loader = torch.utils.data.DataLoader(train_dataset, batch_size=batch_size, shuffle=True)\n",
        "val_loader = torch.utils.data.DataLoader(val_dataset, batch_size=batch_size, shuffle=True)\n",
        "test_loader = torch.utils.data.DataLoader(test_dataset, batch_size=batch_size, shuffle=True)"
      ]
    },
    {
      "cell_type": "code",
      "execution_count": null,
      "metadata": {
        "id": "soL8S4eg39sn"
      },
      "outputs": [],
      "source": [
        "encoder = Encoder()"
      ]
    },
    {
      "cell_type": "code",
      "execution_count": null,
      "metadata": {
        "id": "6yO4jzvP4AdE"
      },
      "outputs": [],
      "source": [
        "# Load the ranges from the YAML file\n",
        "with open(f'./datasets/{dataset_name}/ranges.yml', 'r') as file:\n",
        "    ranges = yaml.safe_load(file)\n",
        "\n",
        "# Create a mapping between parameter names and output sizes\n",
        "parameter_output_mapping = {}\n",
        "for decoder_name, param_specs in ranges.items():\n",
        "    if param_specs['type'] == 'float':\n",
        "        parameter_output_mapping[decoder_name] = 1  # 1 for scalar\n",
        "    elif param_specs['type'] == 'int':\n",
        "        parameter_output_mapping[decoder_name] = 1  # 1 for scalar\n",
        "    elif param_specs['type'] == 'vector':\n",
        "        parameter_output_mapping[decoder_name] = 3  # 3 for x, y, z\n",
        "    elif param_specs['type'] == 'states':\n",
        "        parameter_output_mapping[decoder_name] = len(param_specs['values'])\n",
        "    elif param_specs['type'] == 'bool':\n",
        "        parameter_output_mapping[decoder_name] = 2  # 2 for binary encoding"
      ]
    },
    {
      "cell_type": "code",
      "execution_count": null,
      "metadata": {
        "id": "tlLneV1n39sn"
      },
      "outputs": [],
      "source": [
        "# Load the decoders' params from the YAML file\n",
        "with open(f'./datasets/{dataset_name}/decoders.yml', 'r') as file:\n",
        "    decoders_params = yaml.safe_load(file)\n",
        "\n",
        "decoders = nn.ModuleDict()\n",
        "# initialize decoders with corresponding output tails\n",
        "for decoder_name, param_names in decoders_params.items():\n",
        "    classification_tails = {}\n",
        "    regression_tails = {}\n",
        "    for param_name in param_names:\n",
        "        spec = ranges[param_name]\n",
        "        # if type is bool or states, add to classification tails\n",
        "        # if type is float, int or vector, add to regression tails\n",
        "        if spec['type'] == 'bool' or spec['type'] == 'states':\n",
        "            classification_tails[param_name] = parameter_output_mapping[param_name]\n",
        "        else:\n",
        "            regression_tails[param_name] = parameter_output_mapping[param_name]\n",
        "    # add decoder to model\n",
        "    decoders[decoder_name] = ParamAwareMultiTailDecoder(1024, classification_tails, regression_tails)\n",
        "\n",
        "# decoders = nn.ModuleDict({\n",
        "#     param_name: Decoder(4096, output_size)\n",
        "#     for param_name, output_size in parameter_output_mapping.items()\n",
        "# })"
      ]
    },
    {
      "cell_type": "code",
      "execution_count": null,
      "metadata": {
        "id": "vd2IYngD39so"
      },
      "outputs": [],
      "source": [
        "model = EncoderDecoderModel(encoder, decoders)"
      ]
    },
    {
      "cell_type": "code",
      "execution_count": null,
      "metadata": {
        "colab": {
          "base_uri": "https://localhost:8080/"
        },
        "id": "xPNmkTxiC5sv",
        "outputId": "73d07a17-3bab-4a99-9330-d29ad27a210d"
      },
      "outputs": [
        {
          "data": {
            "text/plain": [
              "EncoderDecoderModel(\n",
              "  (encoder): Encoder(\n",
              "    (features): Sequential(\n",
              "      (0): Conv2d(1, 16, kernel_size=(3, 3), stride=(1, 1), padding=(1, 1))\n",
              "      (1): ReLU(inplace=True)\n",
              "      (2): MaxPool2d(kernel_size=2, stride=2, padding=0, dilation=1, ceil_mode=False)\n",
              "      (3): Conv2d(16, 32, kernel_size=(3, 3), stride=(1, 1), padding=(1, 1))\n",
              "      (4): ReLU(inplace=True)\n",
              "      (5): MaxPool2d(kernel_size=2, stride=2, padding=0, dilation=1, ceil_mode=False)\n",
              "      (6): Conv2d(32, 32, kernel_size=(3, 3), stride=(1, 1), padding=(1, 1))\n",
              "      (7): ReLU(inplace=True)\n",
              "      (8): MaxPool2d(kernel_size=2, stride=2, padding=0, dilation=1, ceil_mode=False)\n",
              "      (9): Flatten(start_dim=1, end_dim=-1)\n",
              "      (10): Linear(in_features=131072, out_features=1024, bias=True)\n",
              "    )\n",
              "  )\n",
              "  (decoders): ModuleDict(\n",
              "    (Building Mass Decoder): ParamAwareMultiTailDecoder(\n",
              "      (fc1): Linear(in_features=1024, out_features=1024, bias=True)\n",
              "      (relu1): ReLU()\n",
              "      (dropout1): Dropout(p=0.5, inplace=False)\n",
              "      (fc2): Linear(in_features=1024, out_features=1024, bias=True)\n",
              "      (relu2): ReLU()\n",
              "      (dropout2): Dropout(p=0.5, inplace=False)\n",
              "      (fc3): Linear(in_features=1024, out_features=512, bias=True)\n",
              "      (relu3): ReLU()\n",
              "      (dropout3): Dropout(p=0.5, inplace=False)\n",
              "      (fc4): Linear(in_features=512, out_features=512, bias=True)\n",
              "      (relu4): ReLU()\n",
              "      (dropout4): Dropout(p=0.5, inplace=False)\n",
              "      (classification_tails): ModuleDict(\n",
              "        (Bm Base Shape): Sequential(\n",
              "          (0): Linear(in_features=512, out_features=2, bias=True)\n",
              "          (1): Softmax(dim=1)\n",
              "        )\n",
              "      )\n",
              "      (regression_tail): ModuleDict(\n",
              "        (Bm Size): Sequential(\n",
              "          (0): Linear(in_features=512, out_features=512, bias=True)\n",
              "          (1): ReLU()\n",
              "          (2): Dropout(p=0.5, inplace=False)\n",
              "          (3): Linear(in_features=512, out_features=512, bias=True)\n",
              "          (4): ReLU()\n",
              "          (5): Dropout(p=0.5, inplace=False)\n",
              "          (6): Linear(in_features=512, out_features=512, bias=True)\n",
              "          (7): ReLU()\n",
              "          (8): Dropout(p=0.5, inplace=False)\n",
              "          (9): Linear(in_features=512, out_features=256, bias=True)\n",
              "          (10): ReLU()\n",
              "          (11): Dropout(p=0.5, inplace=False)\n",
              "          (12): Linear(in_features=256, out_features=128, bias=True)\n",
              "          (13): ReLU()\n",
              "          (14): Dropout(p=0.5, inplace=False)\n",
              "          (15): Linear(in_features=128, out_features=3, bias=True)\n",
              "        )\n",
              "      )\n",
              "    )\n",
              "    (Facade Decoder): ParamAwareMultiTailDecoder(\n",
              "      (fc1): Linear(in_features=1024, out_features=1024, bias=True)\n",
              "      (relu1): ReLU()\n",
              "      (dropout1): Dropout(p=0.5, inplace=False)\n",
              "      (fc2): Linear(in_features=1024, out_features=1024, bias=True)\n",
              "      (relu2): ReLU()\n",
              "      (dropout2): Dropout(p=0.5, inplace=False)\n",
              "      (fc3): Linear(in_features=1024, out_features=512, bias=True)\n",
              "      (relu3): ReLU()\n",
              "      (dropout3): Dropout(p=0.5, inplace=False)\n",
              "      (fc4): Linear(in_features=512, out_features=512, bias=True)\n",
              "      (relu4): ReLU()\n",
              "      (dropout4): Dropout(p=0.5, inplace=False)\n",
              "      (regression_tail): ModuleDict(\n",
              "        (Num Floors): Sequential(\n",
              "          (0): Linear(in_features=512, out_features=512, bias=True)\n",
              "          (1): ReLU()\n",
              "          (2): Dropout(p=0.5, inplace=False)\n",
              "          (3): Linear(in_features=512, out_features=512, bias=True)\n",
              "          (4): ReLU()\n",
              "          (5): Dropout(p=0.5, inplace=False)\n",
              "          (6): Linear(in_features=512, out_features=512, bias=True)\n",
              "          (7): ReLU()\n",
              "          (8): Dropout(p=0.5, inplace=False)\n",
              "          (9): Linear(in_features=512, out_features=256, bias=True)\n",
              "          (10): ReLU()\n",
              "          (11): Dropout(p=0.5, inplace=False)\n",
              "          (12): Linear(in_features=256, out_features=128, bias=True)\n",
              "          (13): ReLU()\n",
              "          (14): Dropout(p=0.5, inplace=False)\n",
              "          (15): Linear(in_features=128, out_features=1, bias=True)\n",
              "        )\n",
              "        (Num Windows Each Side): Sequential(\n",
              "          (0): Linear(in_features=512, out_features=512, bias=True)\n",
              "          (1): ReLU()\n",
              "          (2): Dropout(p=0.5, inplace=False)\n",
              "          (3): Linear(in_features=512, out_features=512, bias=True)\n",
              "          (4): ReLU()\n",
              "          (5): Dropout(p=0.5, inplace=False)\n",
              "          (6): Linear(in_features=512, out_features=512, bias=True)\n",
              "          (7): ReLU()\n",
              "          (8): Dropout(p=0.5, inplace=False)\n",
              "          (9): Linear(in_features=512, out_features=256, bias=True)\n",
              "          (10): ReLU()\n",
              "          (11): Dropout(p=0.5, inplace=False)\n",
              "          (12): Linear(in_features=256, out_features=128, bias=True)\n",
              "          (13): ReLU()\n",
              "          (14): Dropout(p=0.5, inplace=False)\n",
              "          (15): Linear(in_features=128, out_features=1, bias=True)\n",
              "        )\n",
              "      )\n",
              "    )\n",
              "    (Floor Ledge Decoder): ParamAwareMultiTailDecoder(\n",
              "      (fc1): Linear(in_features=1024, out_features=1024, bias=True)\n",
              "      (relu1): ReLU()\n",
              "      (dropout1): Dropout(p=0.5, inplace=False)\n",
              "      (fc2): Linear(in_features=1024, out_features=1024, bias=True)\n",
              "      (relu2): ReLU()\n",
              "      (dropout2): Dropout(p=0.5, inplace=False)\n",
              "      (fc3): Linear(in_features=1024, out_features=512, bias=True)\n",
              "      (relu3): ReLU()\n",
              "      (dropout3): Dropout(p=0.5, inplace=False)\n",
              "      (fc4): Linear(in_features=512, out_features=512, bias=True)\n",
              "      (relu4): ReLU()\n",
              "      (dropout4): Dropout(p=0.5, inplace=False)\n",
              "      (classification_tails): ModuleDict(\n",
              "        (Has Floor Ledge): Sequential(\n",
              "          (0): Linear(in_features=512, out_features=2, bias=True)\n",
              "          (1): Softmax(dim=1)\n",
              "        )\n",
              "      )\n",
              "      (regression_tail): ModuleDict(\n",
              "        (Floor Ledge Size X): Sequential(\n",
              "          (0): Linear(in_features=512, out_features=512, bias=True)\n",
              "          (1): ReLU()\n",
              "          (2): Dropout(p=0.5, inplace=False)\n",
              "          (3): Linear(in_features=512, out_features=512, bias=True)\n",
              "          (4): ReLU()\n",
              "          (5): Dropout(p=0.5, inplace=False)\n",
              "          (6): Linear(in_features=512, out_features=512, bias=True)\n",
              "          (7): ReLU()\n",
              "          (8): Dropout(p=0.5, inplace=False)\n",
              "          (9): Linear(in_features=512, out_features=256, bias=True)\n",
              "          (10): ReLU()\n",
              "          (11): Dropout(p=0.5, inplace=False)\n",
              "          (12): Linear(in_features=256, out_features=128, bias=True)\n",
              "          (13): ReLU()\n",
              "          (14): Dropout(p=0.5, inplace=False)\n",
              "          (15): Linear(in_features=128, out_features=1, bias=True)\n",
              "        )\n",
              "        (Floor Ledge Size Z): Sequential(\n",
              "          (0): Linear(in_features=512, out_features=512, bias=True)\n",
              "          (1): ReLU()\n",
              "          (2): Dropout(p=0.5, inplace=False)\n",
              "          (3): Linear(in_features=512, out_features=512, bias=True)\n",
              "          (4): ReLU()\n",
              "          (5): Dropout(p=0.5, inplace=False)\n",
              "          (6): Linear(in_features=512, out_features=512, bias=True)\n",
              "          (7): ReLU()\n",
              "          (8): Dropout(p=0.5, inplace=False)\n",
              "          (9): Linear(in_features=512, out_features=256, bias=True)\n",
              "          (10): ReLU()\n",
              "          (11): Dropout(p=0.5, inplace=False)\n",
              "          (12): Linear(in_features=256, out_features=128, bias=True)\n",
              "          (13): ReLU()\n",
              "          (14): Dropout(p=0.5, inplace=False)\n",
              "          (15): Linear(in_features=128, out_features=1, bias=True)\n",
              "        )\n",
              "        (Floor Ledge Extrusion X): Sequential(\n",
              "          (0): Linear(in_features=512, out_features=512, bias=True)\n",
              "          (1): ReLU()\n",
              "          (2): Dropout(p=0.5, inplace=False)\n",
              "          (3): Linear(in_features=512, out_features=512, bias=True)\n",
              "          (4): ReLU()\n",
              "          (5): Dropout(p=0.5, inplace=False)\n",
              "          (6): Linear(in_features=512, out_features=512, bias=True)\n",
              "          (7): ReLU()\n",
              "          (8): Dropout(p=0.5, inplace=False)\n",
              "          (9): Linear(in_features=512, out_features=256, bias=True)\n",
              "          (10): ReLU()\n",
              "          (11): Dropout(p=0.5, inplace=False)\n",
              "          (12): Linear(in_features=256, out_features=128, bias=True)\n",
              "          (13): ReLU()\n",
              "          (14): Dropout(p=0.5, inplace=False)\n",
              "          (15): Linear(in_features=128, out_features=1, bias=True)\n",
              "        )\n",
              "        (Floor Ledge Extrusion Z): Sequential(\n",
              "          (0): Linear(in_features=512, out_features=512, bias=True)\n",
              "          (1): ReLU()\n",
              "          (2): Dropout(p=0.5, inplace=False)\n",
              "          (3): Linear(in_features=512, out_features=512, bias=True)\n",
              "          (4): ReLU()\n",
              "          (5): Dropout(p=0.5, inplace=False)\n",
              "          (6): Linear(in_features=512, out_features=512, bias=True)\n",
              "          (7): ReLU()\n",
              "          (8): Dropout(p=0.5, inplace=False)\n",
              "          (9): Linear(in_features=512, out_features=256, bias=True)\n",
              "          (10): ReLU()\n",
              "          (11): Dropout(p=0.5, inplace=False)\n",
              "          (12): Linear(in_features=256, out_features=128, bias=True)\n",
              "          (13): ReLU()\n",
              "          (14): Dropout(p=0.5, inplace=False)\n",
              "          (15): Linear(in_features=128, out_features=1, bias=True)\n",
              "        )\n",
              "      )\n",
              "    )\n",
              "    (Roof Decoder): ParamAwareMultiTailDecoder(\n",
              "      (fc1): Linear(in_features=1024, out_features=1024, bias=True)\n",
              "      (relu1): ReLU()\n",
              "      (dropout1): Dropout(p=0.5, inplace=False)\n",
              "      (fc2): Linear(in_features=1024, out_features=1024, bias=True)\n",
              "      (relu2): ReLU()\n",
              "      (dropout2): Dropout(p=0.5, inplace=False)\n",
              "      (fc3): Linear(in_features=1024, out_features=512, bias=True)\n",
              "      (relu3): ReLU()\n",
              "      (dropout3): Dropout(p=0.5, inplace=False)\n",
              "      (fc4): Linear(in_features=512, out_features=512, bias=True)\n",
              "      (relu4): ReLU()\n",
              "      (dropout4): Dropout(p=0.5, inplace=False)\n",
              "      (classification_tails): ModuleDict(\n",
              "        (Rf Base Shape): Sequential(\n",
              "          (0): Linear(in_features=512, out_features=3, bias=True)\n",
              "          (1): Softmax(dim=1)\n",
              "        )\n",
              "      )\n",
              "      (regression_tail): ModuleDict(\n",
              "        (Rf Size): Sequential(\n",
              "          (0): Linear(in_features=512, out_features=512, bias=True)\n",
              "          (1): ReLU()\n",
              "          (2): Dropout(p=0.5, inplace=False)\n",
              "          (3): Linear(in_features=512, out_features=512, bias=True)\n",
              "          (4): ReLU()\n",
              "          (5): Dropout(p=0.5, inplace=False)\n",
              "          (6): Linear(in_features=512, out_features=512, bias=True)\n",
              "          (7): ReLU()\n",
              "          (8): Dropout(p=0.5, inplace=False)\n",
              "          (9): Linear(in_features=512, out_features=256, bias=True)\n",
              "          (10): ReLU()\n",
              "          (11): Dropout(p=0.5, inplace=False)\n",
              "          (12): Linear(in_features=256, out_features=128, bias=True)\n",
              "          (13): ReLU()\n",
              "          (14): Dropout(p=0.5, inplace=False)\n",
              "          (15): Linear(in_features=128, out_features=3, bias=True)\n",
              "        )\n",
              "      )\n",
              "    )\n",
              "    (Window Ledge Decoder): ParamAwareMultiTailDecoder(\n",
              "      (fc1): Linear(in_features=1024, out_features=1024, bias=True)\n",
              "      (relu1): ReLU()\n",
              "      (dropout1): Dropout(p=0.5, inplace=False)\n",
              "      (fc2): Linear(in_features=1024, out_features=1024, bias=True)\n",
              "      (relu2): ReLU()\n",
              "      (dropout2): Dropout(p=0.5, inplace=False)\n",
              "      (fc3): Linear(in_features=1024, out_features=512, bias=True)\n",
              "      (relu3): ReLU()\n",
              "      (dropout3): Dropout(p=0.5, inplace=False)\n",
              "      (fc4): Linear(in_features=512, out_features=512, bias=True)\n",
              "      (relu4): ReLU()\n",
              "      (dropout4): Dropout(p=0.5, inplace=False)\n",
              "      (classification_tails): ModuleDict(\n",
              "        (Has Window Ledge): Sequential(\n",
              "          (0): Linear(in_features=512, out_features=2, bias=True)\n",
              "          (1): Softmax(dim=1)\n",
              "        )\n",
              "      )\n",
              "      (regression_tail): ModuleDict(\n",
              "        (Window Ledge Shape Size): Sequential(\n",
              "          (0): Linear(in_features=512, out_features=512, bias=True)\n",
              "          (1): ReLU()\n",
              "          (2): Dropout(p=0.5, inplace=False)\n",
              "          (3): Linear(in_features=512, out_features=512, bias=True)\n",
              "          (4): ReLU()\n",
              "          (5): Dropout(p=0.5, inplace=False)\n",
              "          (6): Linear(in_features=512, out_features=512, bias=True)\n",
              "          (7): ReLU()\n",
              "          (8): Dropout(p=0.5, inplace=False)\n",
              "          (9): Linear(in_features=512, out_features=256, bias=True)\n",
              "          (10): ReLU()\n",
              "          (11): Dropout(p=0.5, inplace=False)\n",
              "          (12): Linear(in_features=256, out_features=128, bias=True)\n",
              "          (13): ReLU()\n",
              "          (14): Dropout(p=0.5, inplace=False)\n",
              "          (15): Linear(in_features=128, out_features=3, bias=True)\n",
              "        )\n",
              "        (Window Ledge Extrusion X): Sequential(\n",
              "          (0): Linear(in_features=512, out_features=512, bias=True)\n",
              "          (1): ReLU()\n",
              "          (2): Dropout(p=0.5, inplace=False)\n",
              "          (3): Linear(in_features=512, out_features=512, bias=True)\n",
              "          (4): ReLU()\n",
              "          (5): Dropout(p=0.5, inplace=False)\n",
              "          (6): Linear(in_features=512, out_features=512, bias=True)\n",
              "          (7): ReLU()\n",
              "          (8): Dropout(p=0.5, inplace=False)\n",
              "          (9): Linear(in_features=512, out_features=256, bias=True)\n",
              "          (10): ReLU()\n",
              "          (11): Dropout(p=0.5, inplace=False)\n",
              "          (12): Linear(in_features=256, out_features=128, bias=True)\n",
              "          (13): ReLU()\n",
              "          (14): Dropout(p=0.5, inplace=False)\n",
              "          (15): Linear(in_features=128, out_features=1, bias=True)\n",
              "        )\n",
              "        (Window Ledge Extrusion Z): Sequential(\n",
              "          (0): Linear(in_features=512, out_features=512, bias=True)\n",
              "          (1): ReLU()\n",
              "          (2): Dropout(p=0.5, inplace=False)\n",
              "          (3): Linear(in_features=512, out_features=512, bias=True)\n",
              "          (4): ReLU()\n",
              "          (5): Dropout(p=0.5, inplace=False)\n",
              "          (6): Linear(in_features=512, out_features=512, bias=True)\n",
              "          (7): ReLU()\n",
              "          (8): Dropout(p=0.5, inplace=False)\n",
              "          (9): Linear(in_features=512, out_features=256, bias=True)\n",
              "          (10): ReLU()\n",
              "          (11): Dropout(p=0.5, inplace=False)\n",
              "          (12): Linear(in_features=256, out_features=128, bias=True)\n",
              "          (13): ReLU()\n",
              "          (14): Dropout(p=0.5, inplace=False)\n",
              "          (15): Linear(in_features=128, out_features=1, bias=True)\n",
              "        )\n",
              "        (Window Ledges Height Offset): Sequential(\n",
              "          (0): Linear(in_features=512, out_features=512, bias=True)\n",
              "          (1): ReLU()\n",
              "          (2): Dropout(p=0.5, inplace=False)\n",
              "          (3): Linear(in_features=512, out_features=512, bias=True)\n",
              "          (4): ReLU()\n",
              "          (5): Dropout(p=0.5, inplace=False)\n",
              "          (6): Linear(in_features=512, out_features=512, bias=True)\n",
              "          (7): ReLU()\n",
              "          (8): Dropout(p=0.5, inplace=False)\n",
              "          (9): Linear(in_features=512, out_features=256, bias=True)\n",
              "          (10): ReLU()\n",
              "          (11): Dropout(p=0.5, inplace=False)\n",
              "          (12): Linear(in_features=256, out_features=128, bias=True)\n",
              "          (13): ReLU()\n",
              "          (14): Dropout(p=0.5, inplace=False)\n",
              "          (15): Linear(in_features=128, out_features=1, bias=True)\n",
              "        )\n",
              "      )\n",
              "    )\n",
              "    (Window Main Decoder): ParamAwareMultiTailDecoder(\n",
              "      (fc1): Linear(in_features=1024, out_features=1024, bias=True)\n",
              "      (relu1): ReLU()\n",
              "      (dropout1): Dropout(p=0.5, inplace=False)\n",
              "      (fc2): Linear(in_features=1024, out_features=1024, bias=True)\n",
              "      (relu2): ReLU()\n",
              "      (dropout2): Dropout(p=0.5, inplace=False)\n",
              "      (fc3): Linear(in_features=1024, out_features=512, bias=True)\n",
              "      (relu3): ReLU()\n",
              "      (dropout3): Dropout(p=0.5, inplace=False)\n",
              "      (fc4): Linear(in_features=512, out_features=512, bias=True)\n",
              "      (relu4): ReLU()\n",
              "      (dropout4): Dropout(p=0.5, inplace=False)\n",
              "      (regression_tail): ModuleDict(\n",
              "        (Windows Left Right Offset): Sequential(\n",
              "          (0): Linear(in_features=512, out_features=512, bias=True)\n",
              "          (1): ReLU()\n",
              "          (2): Dropout(p=0.5, inplace=False)\n",
              "          (3): Linear(in_features=512, out_features=512, bias=True)\n",
              "          (4): ReLU()\n",
              "          (5): Dropout(p=0.5, inplace=False)\n",
              "          (6): Linear(in_features=512, out_features=512, bias=True)\n",
              "          (7): ReLU()\n",
              "          (8): Dropout(p=0.5, inplace=False)\n",
              "          (9): Linear(in_features=512, out_features=256, bias=True)\n",
              "          (10): ReLU()\n",
              "          (11): Dropout(p=0.5, inplace=False)\n",
              "          (12): Linear(in_features=256, out_features=128, bias=True)\n",
              "          (13): ReLU()\n",
              "          (14): Dropout(p=0.5, inplace=False)\n",
              "          (15): Linear(in_features=128, out_features=1, bias=True)\n",
              "        )\n",
              "        (Windows Height Offset): Sequential(\n",
              "          (0): Linear(in_features=512, out_features=512, bias=True)\n",
              "          (1): ReLU()\n",
              "          (2): Dropout(p=0.5, inplace=False)\n",
              "          (3): Linear(in_features=512, out_features=512, bias=True)\n",
              "          (4): ReLU()\n",
              "          (5): Dropout(p=0.5, inplace=False)\n",
              "          (6): Linear(in_features=512, out_features=512, bias=True)\n",
              "          (7): ReLU()\n",
              "          (8): Dropout(p=0.5, inplace=False)\n",
              "          (9): Linear(in_features=512, out_features=256, bias=True)\n",
              "          (10): ReLU()\n",
              "          (11): Dropout(p=0.5, inplace=False)\n",
              "          (12): Linear(in_features=256, out_features=128, bias=True)\n",
              "          (13): ReLU()\n",
              "          (14): Dropout(p=0.5, inplace=False)\n",
              "          (15): Linear(in_features=128, out_features=1, bias=True)\n",
              "        )\n",
              "        (Window Shape Size): Sequential(\n",
              "          (0): Linear(in_features=512, out_features=512, bias=True)\n",
              "          (1): ReLU()\n",
              "          (2): Dropout(p=0.5, inplace=False)\n",
              "          (3): Linear(in_features=512, out_features=512, bias=True)\n",
              "          (4): ReLU()\n",
              "          (5): Dropout(p=0.5, inplace=False)\n",
              "          (6): Linear(in_features=512, out_features=512, bias=True)\n",
              "          (7): ReLU()\n",
              "          (8): Dropout(p=0.5, inplace=False)\n",
              "          (9): Linear(in_features=512, out_features=256, bias=True)\n",
              "          (10): ReLU()\n",
              "          (11): Dropout(p=0.5, inplace=False)\n",
              "          (12): Linear(in_features=256, out_features=128, bias=True)\n",
              "          (13): ReLU()\n",
              "          (14): Dropout(p=0.5, inplace=False)\n",
              "          (15): Linear(in_features=128, out_features=3, bias=True)\n",
              "        )\n",
              "      )\n",
              "    )\n",
              "    (Window Panel Decoder): ParamAwareMultiTailDecoder(\n",
              "      (fc1): Linear(in_features=1024, out_features=1024, bias=True)\n",
              "      (relu1): ReLU()\n",
              "      (dropout1): Dropout(p=0.5, inplace=False)\n",
              "      (fc2): Linear(in_features=1024, out_features=1024, bias=True)\n",
              "      (relu2): ReLU()\n",
              "      (dropout2): Dropout(p=0.5, inplace=False)\n",
              "      (fc3): Linear(in_features=1024, out_features=512, bias=True)\n",
              "      (relu3): ReLU()\n",
              "      (dropout3): Dropout(p=0.5, inplace=False)\n",
              "      (fc4): Linear(in_features=512, out_features=512, bias=True)\n",
              "      (relu4): ReLU()\n",
              "      (dropout4): Dropout(p=0.5, inplace=False)\n",
              "      (classification_tails): ModuleDict(\n",
              "        (Window Divided Horizontal): Sequential(\n",
              "          (0): Linear(in_features=512, out_features=2, bias=True)\n",
              "          (1): Softmax(dim=1)\n",
              "        )\n",
              "        (Window Divided Vertical): Sequential(\n",
              "          (0): Linear(in_features=512, out_features=2, bias=True)\n",
              "          (1): Softmax(dim=1)\n",
              "        )\n",
              "      )\n",
              "      (regression_tail): ModuleDict(\n",
              "        (Window Panel Area): Sequential(\n",
              "          (0): Linear(in_features=512, out_features=512, bias=True)\n",
              "          (1): ReLU()\n",
              "          (2): Dropout(p=0.5, inplace=False)\n",
              "          (3): Linear(in_features=512, out_features=512, bias=True)\n",
              "          (4): ReLU()\n",
              "          (5): Dropout(p=0.5, inplace=False)\n",
              "          (6): Linear(in_features=512, out_features=512, bias=True)\n",
              "          (7): ReLU()\n",
              "          (8): Dropout(p=0.5, inplace=False)\n",
              "          (9): Linear(in_features=512, out_features=256, bias=True)\n",
              "          (10): ReLU()\n",
              "          (11): Dropout(p=0.5, inplace=False)\n",
              "          (12): Linear(in_features=256, out_features=128, bias=True)\n",
              "          (13): ReLU()\n",
              "          (14): Dropout(p=0.5, inplace=False)\n",
              "          (15): Linear(in_features=128, out_features=3, bias=True)\n",
              "        )\n",
              "        (Window Interpanel Offset Percentage Y): Sequential(\n",
              "          (0): Linear(in_features=512, out_features=512, bias=True)\n",
              "          (1): ReLU()\n",
              "          (2): Dropout(p=0.5, inplace=False)\n",
              "          (3): Linear(in_features=512, out_features=512, bias=True)\n",
              "          (4): ReLU()\n",
              "          (5): Dropout(p=0.5, inplace=False)\n",
              "          (6): Linear(in_features=512, out_features=512, bias=True)\n",
              "          (7): ReLU()\n",
              "          (8): Dropout(p=0.5, inplace=False)\n",
              "          (9): Linear(in_features=512, out_features=256, bias=True)\n",
              "          (10): ReLU()\n",
              "          (11): Dropout(p=0.5, inplace=False)\n",
              "          (12): Linear(in_features=256, out_features=128, bias=True)\n",
              "          (13): ReLU()\n",
              "          (14): Dropout(p=0.5, inplace=False)\n",
              "          (15): Linear(in_features=128, out_features=1, bias=True)\n",
              "        )\n",
              "        (Window Interpanel Offset Percentage Z): Sequential(\n",
              "          (0): Linear(in_features=512, out_features=512, bias=True)\n",
              "          (1): ReLU()\n",
              "          (2): Dropout(p=0.5, inplace=False)\n",
              "          (3): Linear(in_features=512, out_features=512, bias=True)\n",
              "          (4): ReLU()\n",
              "          (5): Dropout(p=0.5, inplace=False)\n",
              "          (6): Linear(in_features=512, out_features=512, bias=True)\n",
              "          (7): ReLU()\n",
              "          (8): Dropout(p=0.5, inplace=False)\n",
              "          (9): Linear(in_features=512, out_features=256, bias=True)\n",
              "          (10): ReLU()\n",
              "          (11): Dropout(p=0.5, inplace=False)\n",
              "          (12): Linear(in_features=256, out_features=128, bias=True)\n",
              "          (13): ReLU()\n",
              "          (14): Dropout(p=0.5, inplace=False)\n",
              "          (15): Linear(in_features=128, out_features=1, bias=True)\n",
              "        )\n",
              "      )\n",
              "    )\n",
              "  )\n",
              ")"
            ]
          },
          "execution_count": 20,
          "metadata": {},
          "output_type": "execute_result"
        }
      ],
      "source": [
        "model"
      ]
    },
    {
      "cell_type": "code",
      "execution_count": null,
      "metadata": {},
      "outputs": [],
      "source": [
        "# Load the switches from the YAML file\n",
        "with open(f'./datasets/{dataset_name}/switches.yml', 'r') as file:\n",
        "    switches = yaml.safe_load(file)"
      ]
    },
    {
      "cell_type": "code",
      "execution_count": null,
      "metadata": {
        "id": "hZjAuQP34XMR"
      },
      "outputs": [],
      "source": [
        "# Define loss function and optimizer\n",
        "# for regression, use MSELoss, for classification, use CrossEntropyLoss\n",
        "class EncDecsLoss(nn.Module):\n",
        "    def __init__(self, decoders, switches_mapping: dict):\n",
        "        super(EncDecsLoss, self).__init__()\n",
        "        self.decoders = decoders\n",
        "        self.switches_mapping = switches_mapping\n",
        "\n",
        "    def forward(self, outputs, targets):\n",
        "        loss = 0.0\n",
        "        for decoder_name, decoder_output in outputs.items():\n",
        "            loss += self.decoder_loss(decoder_output, targets[decoder_name])\n",
        "        return loss\n",
        "\n",
        "    def classification_loss(self, output, target):\n",
        "        return nn.CrossEntropyLoss()(output, target)\n",
        "\n",
        "    def regression_loss(self, output, target):\n",
        "        return nn.MSELoss()(output, target)\n",
        "\n",
        "    # def find_param_name_in(target, param_name):\n",
        "    #     for decoder_name, decoder_outputs in target.items():\n",
        "    #         for i, classification_target in enumerate(decoder_outputs['classification_targets']):\n",
        "    #             if param_name ==\n",
        "    #     return None\n",
        "\n",
        "    def decoder_loss(self, decoder_output, target):\n",
        "        classification_outputs = decoder_output[0]  # note that model outputs a tuple of list instead of dict of list\n",
        "        regression_output = decoder_output[1]\n",
        "        total_classification_loss = 0.0\n",
        "        # if classification_outputs:\n",
        "        for param_name, pred in classification_outputs.items():\n",
        "            total_classification_loss += self.classification_loss(pred, target[\"classification_targets\"][param_name])\n",
        "            # TODO: should we add early termination for \"Has\" labels?\n",
        "        # if regression_output:\n",
        "        total_regression_loss = 0.0\n",
        "        for param_name, pred in regression_output.items():\n",
        "            regression_loss = self.regression_loss(pred, target[\"regression_target\"][param_name])\n",
        "            # use gt's 0 1 label to switch off the loss if needed\n",
        "            switch_param_name = self.switches_mapping[\"Reversed Mapping\"].get(param_name)\n",
        "            if switch_param_name:\n",
        "                switch_target = target[\"classification_targets\"][switch_param_name]\n",
        "                switch_index = torch.argmax(switch_target, dim=1)\n",
        "                # make regression_loss same shape as switch_index\n",
        "                regression_loss = torch.stack([regression_loss] * switch_index.size(0))\n",
        "                regression_loss *= switch_index\n",
        "                # average again\n",
        "                regression_loss = torch.mean(regression_loss)\n",
        "            total_regression_loss += regression_loss\n",
        "        averaged_classification_loss = total_classification_loss / len(classification_outputs) if len(classification_outputs) > 0 else 0\n",
        "        averaged_regression_loss = total_regression_loss / len(regression_output) if len(regression_output) > 0 else 0\n",
        "        loss = averaged_classification_loss + averaged_regression_loss\n",
        "        return loss\n",
        "\n",
        "criterion = EncDecsLoss(decoders, switches)\n",
        "optimizer = optim.Adam(model.parameters(), lr=0.001)"
      ]
    },
    {
      "cell_type": "code",
      "execution_count": null,
      "metadata": {},
      "outputs": [
        {
          "name": "stdout",
          "output_type": "stream",
          "text": [
            "CUDA Available: True\n",
            "CUDA Device Conut: 4\n",
            "Current CUDA Device: 0\n",
            "CUDA Device Name: NVIDIA GeForce GTX 1080 Ti\n"
          ]
        }
      ],
      "source": [
        "print(f\"CUDA Available: {torch.cuda.is_available()}\")\n",
        "print(f\"CUDA Device Conut: {torch.cuda.device_count()}\")\n",
        "print(f\"Current CUDA Device: {torch.cuda.current_device()}\")\n",
        "print(f\"CUDA Device Name: {torch.cuda.get_device_name(0)}\")\n",
        "device = torch.device(\"cuda\" if torch.cuda.is_available() else \"cpu\")"
      ]
    },
    {
      "cell_type": "code",
      "execution_count": null,
      "metadata": {},
      "outputs": [
        {
          "data": {
            "text/plain": [
              "EncoderDecoderModel(\n",
              "  (encoder): Encoder(\n",
              "    (features): Sequential(\n",
              "      (0): Conv2d(1, 16, kernel_size=(3, 3), stride=(1, 1), padding=(1, 1))\n",
              "      (1): ReLU(inplace=True)\n",
              "      (2): MaxPool2d(kernel_size=2, stride=2, padding=0, dilation=1, ceil_mode=False)\n",
              "      (3): Conv2d(16, 32, kernel_size=(3, 3), stride=(1, 1), padding=(1, 1))\n",
              "      (4): ReLU(inplace=True)\n",
              "      (5): MaxPool2d(kernel_size=2, stride=2, padding=0, dilation=1, ceil_mode=False)\n",
              "      (6): Conv2d(32, 32, kernel_size=(3, 3), stride=(1, 1), padding=(1, 1))\n",
              "      (7): ReLU(inplace=True)\n",
              "      (8): MaxPool2d(kernel_size=2, stride=2, padding=0, dilation=1, ceil_mode=False)\n",
              "      (9): Flatten(start_dim=1, end_dim=-1)\n",
              "      (10): Linear(in_features=131072, out_features=1024, bias=True)\n",
              "    )\n",
              "  )\n",
              "  (decoders): ModuleDict(\n",
              "    (Building Mass Decoder): ParamAwareMultiTailDecoder(\n",
              "      (fc1): Linear(in_features=1024, out_features=1024, bias=True)\n",
              "      (relu1): ReLU()\n",
              "      (dropout1): Dropout(p=0.5, inplace=False)\n",
              "      (fc2): Linear(in_features=1024, out_features=1024, bias=True)\n",
              "      (relu2): ReLU()\n",
              "      (dropout2): Dropout(p=0.5, inplace=False)\n",
              "      (fc3): Linear(in_features=1024, out_features=512, bias=True)\n",
              "      (relu3): ReLU()\n",
              "      (dropout3): Dropout(p=0.5, inplace=False)\n",
              "      (fc4): Linear(in_features=512, out_features=512, bias=True)\n",
              "      (relu4): ReLU()\n",
              "      (dropout4): Dropout(p=0.5, inplace=False)\n",
              "      (classification_tails): ModuleDict(\n",
              "        (Bm Base Shape): Sequential(\n",
              "          (0): Linear(in_features=512, out_features=2, bias=True)\n",
              "          (1): Softmax(dim=1)\n",
              "        )\n",
              "      )\n",
              "      (regression_tail): ModuleDict(\n",
              "        (Bm Size): Sequential(\n",
              "          (0): Linear(in_features=512, out_features=512, bias=True)\n",
              "          (1): ReLU()\n",
              "          (2): Dropout(p=0.5, inplace=False)\n",
              "          (3): Linear(in_features=512, out_features=512, bias=True)\n",
              "          (4): ReLU()\n",
              "          (5): Dropout(p=0.5, inplace=False)\n",
              "          (6): Linear(in_features=512, out_features=512, bias=True)\n",
              "          (7): ReLU()\n",
              "          (8): Dropout(p=0.5, inplace=False)\n",
              "          (9): Linear(in_features=512, out_features=256, bias=True)\n",
              "          (10): ReLU()\n",
              "          (11): Dropout(p=0.5, inplace=False)\n",
              "          (12): Linear(in_features=256, out_features=128, bias=True)\n",
              "          (13): ReLU()\n",
              "          (14): Dropout(p=0.5, inplace=False)\n",
              "          (15): Linear(in_features=128, out_features=3, bias=True)\n",
              "        )\n",
              "      )\n",
              "    )\n",
              "    (Facade Decoder): ParamAwareMultiTailDecoder(\n",
              "      (fc1): Linear(in_features=1024, out_features=1024, bias=True)\n",
              "      (relu1): ReLU()\n",
              "      (dropout1): Dropout(p=0.5, inplace=False)\n",
              "      (fc2): Linear(in_features=1024, out_features=1024, bias=True)\n",
              "      (relu2): ReLU()\n",
              "      (dropout2): Dropout(p=0.5, inplace=False)\n",
              "      (fc3): Linear(in_features=1024, out_features=512, bias=True)\n",
              "      (relu3): ReLU()\n",
              "      (dropout3): Dropout(p=0.5, inplace=False)\n",
              "      (fc4): Linear(in_features=512, out_features=512, bias=True)\n",
              "      (relu4): ReLU()\n",
              "      (dropout4): Dropout(p=0.5, inplace=False)\n",
              "      (regression_tail): ModuleDict(\n",
              "        (Num Floors): Sequential(\n",
              "          (0): Linear(in_features=512, out_features=512, bias=True)\n",
              "          (1): ReLU()\n",
              "          (2): Dropout(p=0.5, inplace=False)\n",
              "          (3): Linear(in_features=512, out_features=512, bias=True)\n",
              "          (4): ReLU()\n",
              "          (5): Dropout(p=0.5, inplace=False)\n",
              "          (6): Linear(in_features=512, out_features=512, bias=True)\n",
              "          (7): ReLU()\n",
              "          (8): Dropout(p=0.5, inplace=False)\n",
              "          (9): Linear(in_features=512, out_features=256, bias=True)\n",
              "          (10): ReLU()\n",
              "          (11): Dropout(p=0.5, inplace=False)\n",
              "          (12): Linear(in_features=256, out_features=128, bias=True)\n",
              "          (13): ReLU()\n",
              "          (14): Dropout(p=0.5, inplace=False)\n",
              "          (15): Linear(in_features=128, out_features=1, bias=True)\n",
              "        )\n",
              "        (Num Windows Each Side): Sequential(\n",
              "          (0): Linear(in_features=512, out_features=512, bias=True)\n",
              "          (1): ReLU()\n",
              "          (2): Dropout(p=0.5, inplace=False)\n",
              "          (3): Linear(in_features=512, out_features=512, bias=True)\n",
              "          (4): ReLU()\n",
              "          (5): Dropout(p=0.5, inplace=False)\n",
              "          (6): Linear(in_features=512, out_features=512, bias=True)\n",
              "          (7): ReLU()\n",
              "          (8): Dropout(p=0.5, inplace=False)\n",
              "          (9): Linear(in_features=512, out_features=256, bias=True)\n",
              "          (10): ReLU()\n",
              "          (11): Dropout(p=0.5, inplace=False)\n",
              "          (12): Linear(in_features=256, out_features=128, bias=True)\n",
              "          (13): ReLU()\n",
              "          (14): Dropout(p=0.5, inplace=False)\n",
              "          (15): Linear(in_features=128, out_features=1, bias=True)\n",
              "        )\n",
              "      )\n",
              "    )\n",
              "    (Floor Ledge Decoder): ParamAwareMultiTailDecoder(\n",
              "      (fc1): Linear(in_features=1024, out_features=1024, bias=True)\n",
              "      (relu1): ReLU()\n",
              "      (dropout1): Dropout(p=0.5, inplace=False)\n",
              "      (fc2): Linear(in_features=1024, out_features=1024, bias=True)\n",
              "      (relu2): ReLU()\n",
              "      (dropout2): Dropout(p=0.5, inplace=False)\n",
              "      (fc3): Linear(in_features=1024, out_features=512, bias=True)\n",
              "      (relu3): ReLU()\n",
              "      (dropout3): Dropout(p=0.5, inplace=False)\n",
              "      (fc4): Linear(in_features=512, out_features=512, bias=True)\n",
              "      (relu4): ReLU()\n",
              "      (dropout4): Dropout(p=0.5, inplace=False)\n",
              "      (classification_tails): ModuleDict(\n",
              "        (Has Floor Ledge): Sequential(\n",
              "          (0): Linear(in_features=512, out_features=2, bias=True)\n",
              "          (1): Softmax(dim=1)\n",
              "        )\n",
              "      )\n",
              "      (regression_tail): ModuleDict(\n",
              "        (Floor Ledge Size X): Sequential(\n",
              "          (0): Linear(in_features=512, out_features=512, bias=True)\n",
              "          (1): ReLU()\n",
              "          (2): Dropout(p=0.5, inplace=False)\n",
              "          (3): Linear(in_features=512, out_features=512, bias=True)\n",
              "          (4): ReLU()\n",
              "          (5): Dropout(p=0.5, inplace=False)\n",
              "          (6): Linear(in_features=512, out_features=512, bias=True)\n",
              "          (7): ReLU()\n",
              "          (8): Dropout(p=0.5, inplace=False)\n",
              "          (9): Linear(in_features=512, out_features=256, bias=True)\n",
              "          (10): ReLU()\n",
              "          (11): Dropout(p=0.5, inplace=False)\n",
              "          (12): Linear(in_features=256, out_features=128, bias=True)\n",
              "          (13): ReLU()\n",
              "          (14): Dropout(p=0.5, inplace=False)\n",
              "          (15): Linear(in_features=128, out_features=1, bias=True)\n",
              "        )\n",
              "        (Floor Ledge Size Z): Sequential(\n",
              "          (0): Linear(in_features=512, out_features=512, bias=True)\n",
              "          (1): ReLU()\n",
              "          (2): Dropout(p=0.5, inplace=False)\n",
              "          (3): Linear(in_features=512, out_features=512, bias=True)\n",
              "          (4): ReLU()\n",
              "          (5): Dropout(p=0.5, inplace=False)\n",
              "          (6): Linear(in_features=512, out_features=512, bias=True)\n",
              "          (7): ReLU()\n",
              "          (8): Dropout(p=0.5, inplace=False)\n",
              "          (9): Linear(in_features=512, out_features=256, bias=True)\n",
              "          (10): ReLU()\n",
              "          (11): Dropout(p=0.5, inplace=False)\n",
              "          (12): Linear(in_features=256, out_features=128, bias=True)\n",
              "          (13): ReLU()\n",
              "          (14): Dropout(p=0.5, inplace=False)\n",
              "          (15): Linear(in_features=128, out_features=1, bias=True)\n",
              "        )\n",
              "        (Floor Ledge Extrusion X): Sequential(\n",
              "          (0): Linear(in_features=512, out_features=512, bias=True)\n",
              "          (1): ReLU()\n",
              "          (2): Dropout(p=0.5, inplace=False)\n",
              "          (3): Linear(in_features=512, out_features=512, bias=True)\n",
              "          (4): ReLU()\n",
              "          (5): Dropout(p=0.5, inplace=False)\n",
              "          (6): Linear(in_features=512, out_features=512, bias=True)\n",
              "          (7): ReLU()\n",
              "          (8): Dropout(p=0.5, inplace=False)\n",
              "          (9): Linear(in_features=512, out_features=256, bias=True)\n",
              "          (10): ReLU()\n",
              "          (11): Dropout(p=0.5, inplace=False)\n",
              "          (12): Linear(in_features=256, out_features=128, bias=True)\n",
              "          (13): ReLU()\n",
              "          (14): Dropout(p=0.5, inplace=False)\n",
              "          (15): Linear(in_features=128, out_features=1, bias=True)\n",
              "        )\n",
              "        (Floor Ledge Extrusion Z): Sequential(\n",
              "          (0): Linear(in_features=512, out_features=512, bias=True)\n",
              "          (1): ReLU()\n",
              "          (2): Dropout(p=0.5, inplace=False)\n",
              "          (3): Linear(in_features=512, out_features=512, bias=True)\n",
              "          (4): ReLU()\n",
              "          (5): Dropout(p=0.5, inplace=False)\n",
              "          (6): Linear(in_features=512, out_features=512, bias=True)\n",
              "          (7): ReLU()\n",
              "          (8): Dropout(p=0.5, inplace=False)\n",
              "          (9): Linear(in_features=512, out_features=256, bias=True)\n",
              "          (10): ReLU()\n",
              "          (11): Dropout(p=0.5, inplace=False)\n",
              "          (12): Linear(in_features=256, out_features=128, bias=True)\n",
              "          (13): ReLU()\n",
              "          (14): Dropout(p=0.5, inplace=False)\n",
              "          (15): Linear(in_features=128, out_features=1, bias=True)\n",
              "        )\n",
              "      )\n",
              "    )\n",
              "    (Roof Decoder): ParamAwareMultiTailDecoder(\n",
              "      (fc1): Linear(in_features=1024, out_features=1024, bias=True)\n",
              "      (relu1): ReLU()\n",
              "      (dropout1): Dropout(p=0.5, inplace=False)\n",
              "      (fc2): Linear(in_features=1024, out_features=1024, bias=True)\n",
              "      (relu2): ReLU()\n",
              "      (dropout2): Dropout(p=0.5, inplace=False)\n",
              "      (fc3): Linear(in_features=1024, out_features=512, bias=True)\n",
              "      (relu3): ReLU()\n",
              "      (dropout3): Dropout(p=0.5, inplace=False)\n",
              "      (fc4): Linear(in_features=512, out_features=512, bias=True)\n",
              "      (relu4): ReLU()\n",
              "      (dropout4): Dropout(p=0.5, inplace=False)\n",
              "      (classification_tails): ModuleDict(\n",
              "        (Rf Base Shape): Sequential(\n",
              "          (0): Linear(in_features=512, out_features=3, bias=True)\n",
              "          (1): Softmax(dim=1)\n",
              "        )\n",
              "      )\n",
              "      (regression_tail): ModuleDict(\n",
              "        (Rf Size): Sequential(\n",
              "          (0): Linear(in_features=512, out_features=512, bias=True)\n",
              "          (1): ReLU()\n",
              "          (2): Dropout(p=0.5, inplace=False)\n",
              "          (3): Linear(in_features=512, out_features=512, bias=True)\n",
              "          (4): ReLU()\n",
              "          (5): Dropout(p=0.5, inplace=False)\n",
              "          (6): Linear(in_features=512, out_features=512, bias=True)\n",
              "          (7): ReLU()\n",
              "          (8): Dropout(p=0.5, inplace=False)\n",
              "          (9): Linear(in_features=512, out_features=256, bias=True)\n",
              "          (10): ReLU()\n",
              "          (11): Dropout(p=0.5, inplace=False)\n",
              "          (12): Linear(in_features=256, out_features=128, bias=True)\n",
              "          (13): ReLU()\n",
              "          (14): Dropout(p=0.5, inplace=False)\n",
              "          (15): Linear(in_features=128, out_features=3, bias=True)\n",
              "        )\n",
              "      )\n",
              "    )\n",
              "    (Window Ledge Decoder): ParamAwareMultiTailDecoder(\n",
              "      (fc1): Linear(in_features=1024, out_features=1024, bias=True)\n",
              "      (relu1): ReLU()\n",
              "      (dropout1): Dropout(p=0.5, inplace=False)\n",
              "      (fc2): Linear(in_features=1024, out_features=1024, bias=True)\n",
              "      (relu2): ReLU()\n",
              "      (dropout2): Dropout(p=0.5, inplace=False)\n",
              "      (fc3): Linear(in_features=1024, out_features=512, bias=True)\n",
              "      (relu3): ReLU()\n",
              "      (dropout3): Dropout(p=0.5, inplace=False)\n",
              "      (fc4): Linear(in_features=512, out_features=512, bias=True)\n",
              "      (relu4): ReLU()\n",
              "      (dropout4): Dropout(p=0.5, inplace=False)\n",
              "      (classification_tails): ModuleDict(\n",
              "        (Has Window Ledge): Sequential(\n",
              "          (0): Linear(in_features=512, out_features=2, bias=True)\n",
              "          (1): Softmax(dim=1)\n",
              "        )\n",
              "      )\n",
              "      (regression_tail): ModuleDict(\n",
              "        (Window Ledge Shape Size): Sequential(\n",
              "          (0): Linear(in_features=512, out_features=512, bias=True)\n",
              "          (1): ReLU()\n",
              "          (2): Dropout(p=0.5, inplace=False)\n",
              "          (3): Linear(in_features=512, out_features=512, bias=True)\n",
              "          (4): ReLU()\n",
              "          (5): Dropout(p=0.5, inplace=False)\n",
              "          (6): Linear(in_features=512, out_features=512, bias=True)\n",
              "          (7): ReLU()\n",
              "          (8): Dropout(p=0.5, inplace=False)\n",
              "          (9): Linear(in_features=512, out_features=256, bias=True)\n",
              "          (10): ReLU()\n",
              "          (11): Dropout(p=0.5, inplace=False)\n",
              "          (12): Linear(in_features=256, out_features=128, bias=True)\n",
              "          (13): ReLU()\n",
              "          (14): Dropout(p=0.5, inplace=False)\n",
              "          (15): Linear(in_features=128, out_features=3, bias=True)\n",
              "        )\n",
              "        (Window Ledge Extrusion X): Sequential(\n",
              "          (0): Linear(in_features=512, out_features=512, bias=True)\n",
              "          (1): ReLU()\n",
              "          (2): Dropout(p=0.5, inplace=False)\n",
              "          (3): Linear(in_features=512, out_features=512, bias=True)\n",
              "          (4): ReLU()\n",
              "          (5): Dropout(p=0.5, inplace=False)\n",
              "          (6): Linear(in_features=512, out_features=512, bias=True)\n",
              "          (7): ReLU()\n",
              "          (8): Dropout(p=0.5, inplace=False)\n",
              "          (9): Linear(in_features=512, out_features=256, bias=True)\n",
              "          (10): ReLU()\n",
              "          (11): Dropout(p=0.5, inplace=False)\n",
              "          (12): Linear(in_features=256, out_features=128, bias=True)\n",
              "          (13): ReLU()\n",
              "          (14): Dropout(p=0.5, inplace=False)\n",
              "          (15): Linear(in_features=128, out_features=1, bias=True)\n",
              "        )\n",
              "        (Window Ledge Extrusion Z): Sequential(\n",
              "          (0): Linear(in_features=512, out_features=512, bias=True)\n",
              "          (1): ReLU()\n",
              "          (2): Dropout(p=0.5, inplace=False)\n",
              "          (3): Linear(in_features=512, out_features=512, bias=True)\n",
              "          (4): ReLU()\n",
              "          (5): Dropout(p=0.5, inplace=False)\n",
              "          (6): Linear(in_features=512, out_features=512, bias=True)\n",
              "          (7): ReLU()\n",
              "          (8): Dropout(p=0.5, inplace=False)\n",
              "          (9): Linear(in_features=512, out_features=256, bias=True)\n",
              "          (10): ReLU()\n",
              "          (11): Dropout(p=0.5, inplace=False)\n",
              "          (12): Linear(in_features=256, out_features=128, bias=True)\n",
              "          (13): ReLU()\n",
              "          (14): Dropout(p=0.5, inplace=False)\n",
              "          (15): Linear(in_features=128, out_features=1, bias=True)\n",
              "        )\n",
              "        (Window Ledges Height Offset): Sequential(\n",
              "          (0): Linear(in_features=512, out_features=512, bias=True)\n",
              "          (1): ReLU()\n",
              "          (2): Dropout(p=0.5, inplace=False)\n",
              "          (3): Linear(in_features=512, out_features=512, bias=True)\n",
              "          (4): ReLU()\n",
              "          (5): Dropout(p=0.5, inplace=False)\n",
              "          (6): Linear(in_features=512, out_features=512, bias=True)\n",
              "          (7): ReLU()\n",
              "          (8): Dropout(p=0.5, inplace=False)\n",
              "          (9): Linear(in_features=512, out_features=256, bias=True)\n",
              "          (10): ReLU()\n",
              "          (11): Dropout(p=0.5, inplace=False)\n",
              "          (12): Linear(in_features=256, out_features=128, bias=True)\n",
              "          (13): ReLU()\n",
              "          (14): Dropout(p=0.5, inplace=False)\n",
              "          (15): Linear(in_features=128, out_features=1, bias=True)\n",
              "        )\n",
              "      )\n",
              "    )\n",
              "    (Window Main Decoder): ParamAwareMultiTailDecoder(\n",
              "      (fc1): Linear(in_features=1024, out_features=1024, bias=True)\n",
              "      (relu1): ReLU()\n",
              "      (dropout1): Dropout(p=0.5, inplace=False)\n",
              "      (fc2): Linear(in_features=1024, out_features=1024, bias=True)\n",
              "      (relu2): ReLU()\n",
              "      (dropout2): Dropout(p=0.5, inplace=False)\n",
              "      (fc3): Linear(in_features=1024, out_features=512, bias=True)\n",
              "      (relu3): ReLU()\n",
              "      (dropout3): Dropout(p=0.5, inplace=False)\n",
              "      (fc4): Linear(in_features=512, out_features=512, bias=True)\n",
              "      (relu4): ReLU()\n",
              "      (dropout4): Dropout(p=0.5, inplace=False)\n",
              "      (regression_tail): ModuleDict(\n",
              "        (Windows Left Right Offset): Sequential(\n",
              "          (0): Linear(in_features=512, out_features=512, bias=True)\n",
              "          (1): ReLU()\n",
              "          (2): Dropout(p=0.5, inplace=False)\n",
              "          (3): Linear(in_features=512, out_features=512, bias=True)\n",
              "          (4): ReLU()\n",
              "          (5): Dropout(p=0.5, inplace=False)\n",
              "          (6): Linear(in_features=512, out_features=512, bias=True)\n",
              "          (7): ReLU()\n",
              "          (8): Dropout(p=0.5, inplace=False)\n",
              "          (9): Linear(in_features=512, out_features=256, bias=True)\n",
              "          (10): ReLU()\n",
              "          (11): Dropout(p=0.5, inplace=False)\n",
              "          (12): Linear(in_features=256, out_features=128, bias=True)\n",
              "          (13): ReLU()\n",
              "          (14): Dropout(p=0.5, inplace=False)\n",
              "          (15): Linear(in_features=128, out_features=1, bias=True)\n",
              "        )\n",
              "        (Windows Height Offset): Sequential(\n",
              "          (0): Linear(in_features=512, out_features=512, bias=True)\n",
              "          (1): ReLU()\n",
              "          (2): Dropout(p=0.5, inplace=False)\n",
              "          (3): Linear(in_features=512, out_features=512, bias=True)\n",
              "          (4): ReLU()\n",
              "          (5): Dropout(p=0.5, inplace=False)\n",
              "          (6): Linear(in_features=512, out_features=512, bias=True)\n",
              "          (7): ReLU()\n",
              "          (8): Dropout(p=0.5, inplace=False)\n",
              "          (9): Linear(in_features=512, out_features=256, bias=True)\n",
              "          (10): ReLU()\n",
              "          (11): Dropout(p=0.5, inplace=False)\n",
              "          (12): Linear(in_features=256, out_features=128, bias=True)\n",
              "          (13): ReLU()\n",
              "          (14): Dropout(p=0.5, inplace=False)\n",
              "          (15): Linear(in_features=128, out_features=1, bias=True)\n",
              "        )\n",
              "        (Window Shape Size): Sequential(\n",
              "          (0): Linear(in_features=512, out_features=512, bias=True)\n",
              "          (1): ReLU()\n",
              "          (2): Dropout(p=0.5, inplace=False)\n",
              "          (3): Linear(in_features=512, out_features=512, bias=True)\n",
              "          (4): ReLU()\n",
              "          (5): Dropout(p=0.5, inplace=False)\n",
              "          (6): Linear(in_features=512, out_features=512, bias=True)\n",
              "          (7): ReLU()\n",
              "          (8): Dropout(p=0.5, inplace=False)\n",
              "          (9): Linear(in_features=512, out_features=256, bias=True)\n",
              "          (10): ReLU()\n",
              "          (11): Dropout(p=0.5, inplace=False)\n",
              "          (12): Linear(in_features=256, out_features=128, bias=True)\n",
              "          (13): ReLU()\n",
              "          (14): Dropout(p=0.5, inplace=False)\n",
              "          (15): Linear(in_features=128, out_features=3, bias=True)\n",
              "        )\n",
              "      )\n",
              "    )\n",
              "    (Window Panel Decoder): ParamAwareMultiTailDecoder(\n",
              "      (fc1): Linear(in_features=1024, out_features=1024, bias=True)\n",
              "      (relu1): ReLU()\n",
              "      (dropout1): Dropout(p=0.5, inplace=False)\n",
              "      (fc2): Linear(in_features=1024, out_features=1024, bias=True)\n",
              "      (relu2): ReLU()\n",
              "      (dropout2): Dropout(p=0.5, inplace=False)\n",
              "      (fc3): Linear(in_features=1024, out_features=512, bias=True)\n",
              "      (relu3): ReLU()\n",
              "      (dropout3): Dropout(p=0.5, inplace=False)\n",
              "      (fc4): Linear(in_features=512, out_features=512, bias=True)\n",
              "      (relu4): ReLU()\n",
              "      (dropout4): Dropout(p=0.5, inplace=False)\n",
              "      (classification_tails): ModuleDict(\n",
              "        (Window Divided Horizontal): Sequential(\n",
              "          (0): Linear(in_features=512, out_features=2, bias=True)\n",
              "          (1): Softmax(dim=1)\n",
              "        )\n",
              "        (Window Divided Vertical): Sequential(\n",
              "          (0): Linear(in_features=512, out_features=2, bias=True)\n",
              "          (1): Softmax(dim=1)\n",
              "        )\n",
              "      )\n",
              "      (regression_tail): ModuleDict(\n",
              "        (Window Panel Area): Sequential(\n",
              "          (0): Linear(in_features=512, out_features=512, bias=True)\n",
              "          (1): ReLU()\n",
              "          (2): Dropout(p=0.5, inplace=False)\n",
              "          (3): Linear(in_features=512, out_features=512, bias=True)\n",
              "          (4): ReLU()\n",
              "          (5): Dropout(p=0.5, inplace=False)\n",
              "          (6): Linear(in_features=512, out_features=512, bias=True)\n",
              "          (7): ReLU()\n",
              "          (8): Dropout(p=0.5, inplace=False)\n",
              "          (9): Linear(in_features=512, out_features=256, bias=True)\n",
              "          (10): ReLU()\n",
              "          (11): Dropout(p=0.5, inplace=False)\n",
              "          (12): Linear(in_features=256, out_features=128, bias=True)\n",
              "          (13): ReLU()\n",
              "          (14): Dropout(p=0.5, inplace=False)\n",
              "          (15): Linear(in_features=128, out_features=3, bias=True)\n",
              "        )\n",
              "        (Window Interpanel Offset Percentage Y): Sequential(\n",
              "          (0): Linear(in_features=512, out_features=512, bias=True)\n",
              "          (1): ReLU()\n",
              "          (2): Dropout(p=0.5, inplace=False)\n",
              "          (3): Linear(in_features=512, out_features=512, bias=True)\n",
              "          (4): ReLU()\n",
              "          (5): Dropout(p=0.5, inplace=False)\n",
              "          (6): Linear(in_features=512, out_features=512, bias=True)\n",
              "          (7): ReLU()\n",
              "          (8): Dropout(p=0.5, inplace=False)\n",
              "          (9): Linear(in_features=512, out_features=256, bias=True)\n",
              "          (10): ReLU()\n",
              "          (11): Dropout(p=0.5, inplace=False)\n",
              "          (12): Linear(in_features=256, out_features=128, bias=True)\n",
              "          (13): ReLU()\n",
              "          (14): Dropout(p=0.5, inplace=False)\n",
              "          (15): Linear(in_features=128, out_features=1, bias=True)\n",
              "        )\n",
              "        (Window Interpanel Offset Percentage Z): Sequential(\n",
              "          (0): Linear(in_features=512, out_features=512, bias=True)\n",
              "          (1): ReLU()\n",
              "          (2): Dropout(p=0.5, inplace=False)\n",
              "          (3): Linear(in_features=512, out_features=512, bias=True)\n",
              "          (4): ReLU()\n",
              "          (5): Dropout(p=0.5, inplace=False)\n",
              "          (6): Linear(in_features=512, out_features=512, bias=True)\n",
              "          (7): ReLU()\n",
              "          (8): Dropout(p=0.5, inplace=False)\n",
              "          (9): Linear(in_features=512, out_features=256, bias=True)\n",
              "          (10): ReLU()\n",
              "          (11): Dropout(p=0.5, inplace=False)\n",
              "          (12): Linear(in_features=256, out_features=128, bias=True)\n",
              "          (13): ReLU()\n",
              "          (14): Dropout(p=0.5, inplace=False)\n",
              "          (15): Linear(in_features=128, out_features=1, bias=True)\n",
              "        )\n",
              "      )\n",
              "    )\n",
              "  )\n",
              ")"
            ]
          },
          "execution_count": 24,
          "metadata": {},
          "output_type": "execute_result"
        }
      ],
      "source": [
        "# move model to device\n",
        "model.to(device)"
      ]
    },
    {
      "cell_type": "code",
      "execution_count": null,
      "metadata": {},
      "outputs": [
        {
          "name": "stderr",
          "output_type": "stream",
          "text": [
            "Epoch 1:   0%|          | 0/1 [00:00<?, ?it/s]/home/shuyuan/miniconda3/envs/dag/lib/python3.10/site-packages/torch/nn/modules/loss.py:535: UserWarning: Using a target size (torch.Size([3])) that is different to the input size (torch.Size([3, 1])). This will likely lead to incorrect results due to broadcasting. Please ensure they have the same size.\n",
            "  return F.mse_loss(input, target, reduction=self.reduction)\n",
            "                                                                          \r"
          ]
        },
        {
          "name": "stdout",
          "output_type": "stream",
          "text": [
            "Epoch 1/200, Training Loss: 5.318198204040527, Validation Loss: 5.124059200286865\n"
          ]
        },
        {
          "name": "stderr",
          "output_type": "stream",
          "text": [
            "                                                                  \r"
          ]
        },
        {
          "name": "stdout",
          "output_type": "stream",
          "text": [
            "Epoch 2/200, Training Loss: 5.231717109680176, Validation Loss: 4.71890115737915\n"
          ]
        },
        {
          "name": "stderr",
          "output_type": "stream",
          "text": [
            "                                                                  \r"
          ]
        },
        {
          "name": "stdout",
          "output_type": "stream",
          "text": [
            "Epoch 3/200, Training Loss: 4.863566875457764, Validation Loss: 4.301918983459473\n"
          ]
        },
        {
          "name": "stderr",
          "output_type": "stream",
          "text": [
            "                                                                  \r"
          ]
        },
        {
          "name": "stdout",
          "output_type": "stream",
          "text": [
            "Epoch 4/200, Training Loss: 4.017567157745361, Validation Loss: 3.923346996307373\n"
          ]
        },
        {
          "name": "stderr",
          "output_type": "stream",
          "text": [
            "                                                                  \r"
          ]
        },
        {
          "name": "stdout",
          "output_type": "stream",
          "text": [
            "Epoch 5/200, Training Loss: 4.4460225105285645, Validation Loss: 3.7612104415893555\n"
          ]
        },
        {
          "name": "stderr",
          "output_type": "stream",
          "text": [
            "                                                                  \r"
          ]
        },
        {
          "name": "stdout",
          "output_type": "stream",
          "text": [
            "Epoch 6/200, Training Loss: 4.330959796905518, Validation Loss: 3.8023738861083984\n"
          ]
        },
        {
          "name": "stderr",
          "output_type": "stream",
          "text": [
            "                                                                  \r"
          ]
        },
        {
          "name": "stdout",
          "output_type": "stream",
          "text": [
            "Epoch 7/200, Training Loss: 3.657480239868164, Validation Loss: 3.8610057830810547\n"
          ]
        },
        {
          "name": "stderr",
          "output_type": "stream",
          "text": [
            "                                                                  \r"
          ]
        },
        {
          "name": "stdout",
          "output_type": "stream",
          "text": [
            "Epoch 8/200, Training Loss: 3.628239154815674, Validation Loss: 3.8726725578308105\n"
          ]
        },
        {
          "name": "stderr",
          "output_type": "stream",
          "text": [
            "                                                                  "
          ]
        },
        {
          "name": "stdout",
          "output_type": "stream",
          "text": [
            "Epoch 9/200, Training Loss: 3.5586633682250977, Validation Loss: 3.8315529823303223"
          ]
        },
        {
          "name": "stderr",
          "output_type": "stream",
          "text": [
            "\r"
          ]
        },
        {
          "name": "stdout",
          "output_type": "stream",
          "text": [
            "\n"
          ]
        },
        {
          "name": "stderr",
          "output_type": "stream",
          "text": [
            "                                                                   \r"
          ]
        },
        {
          "name": "stdout",
          "output_type": "stream",
          "text": [
            "Epoch 10/200, Training Loss: 3.6330788135528564, Validation Loss: 3.759159564971924\n"
          ]
        },
        {
          "name": "stderr",
          "output_type": "stream",
          "text": [
            "                                                                  \r"
          ]
        },
        {
          "name": "stdout",
          "output_type": "stream",
          "text": [
            "Epoch 11/200, Training Loss: 3.5018343925476074, Validation Loss: 3.753229856491089\n"
          ]
        },
        {
          "name": "stderr",
          "output_type": "stream",
          "text": [
            "                                                                   \r"
          ]
        },
        {
          "name": "stdout",
          "output_type": "stream",
          "text": [
            "Epoch 12/200, Training Loss: 3.6159636974334717, Validation Loss: 3.833591938018799\n"
          ]
        },
        {
          "name": "stderr",
          "output_type": "stream",
          "text": [
            "                                                                   \r"
          ]
        },
        {
          "name": "stdout",
          "output_type": "stream",
          "text": [
            "Epoch 13/200, Training Loss: 3.584865093231201, Validation Loss: 3.639120101928711\n"
          ]
        },
        {
          "name": "stderr",
          "output_type": "stream",
          "text": [
            "                                                                   \r"
          ]
        },
        {
          "name": "stdout",
          "output_type": "stream",
          "text": [
            "Epoch 14/200, Training Loss: 3.580203056335449, Validation Loss: 3.600390911102295\n"
          ]
        },
        {
          "name": "stderr",
          "output_type": "stream",
          "text": [
            "                                                                   \r"
          ]
        },
        {
          "name": "stdout",
          "output_type": "stream",
          "text": [
            "Epoch 15/200, Training Loss: 3.670814037322998, Validation Loss: 3.8270862102508545\n"
          ]
        },
        {
          "name": "stderr",
          "output_type": "stream",
          "text": [
            "                                                                   \r"
          ]
        },
        {
          "name": "stdout",
          "output_type": "stream",
          "text": [
            "Epoch 16/200, Training Loss: 3.567790985107422, Validation Loss: 3.697355031967163\n"
          ]
        },
        {
          "name": "stderr",
          "output_type": "stream",
          "text": [
            "                                                                  \r"
          ]
        },
        {
          "name": "stdout",
          "output_type": "stream",
          "text": [
            "Epoch 17/200, Training Loss: 3.5014243125915527, Validation Loss: 3.4030070304870605\n"
          ]
        },
        {
          "name": "stderr",
          "output_type": "stream",
          "text": [
            "                                                                   \r"
          ]
        },
        {
          "name": "stdout",
          "output_type": "stream",
          "text": [
            "Epoch 18/200, Training Loss: 3.383288621902466, Validation Loss: 3.290153980255127\n"
          ]
        },
        {
          "name": "stderr",
          "output_type": "stream",
          "text": [
            "                                                                   \r"
          ]
        },
        {
          "name": "stdout",
          "output_type": "stream",
          "text": [
            "Epoch 19/200, Training Loss: 3.565908432006836, Validation Loss: 3.192884922027588\n"
          ]
        },
        {
          "name": "stderr",
          "output_type": "stream",
          "text": [
            "                                                                   \r"
          ]
        },
        {
          "name": "stdout",
          "output_type": "stream",
          "text": [
            "Epoch 20/200, Training Loss: 3.4933032989501953, Validation Loss: 3.6149935722351074\n"
          ]
        },
        {
          "name": "stderr",
          "output_type": "stream",
          "text": [
            "                                                                   \r"
          ]
        },
        {
          "name": "stdout",
          "output_type": "stream",
          "text": [
            "Epoch 21/200, Training Loss: 3.6670002937316895, Validation Loss: 3.6787233352661133\n"
          ]
        },
        {
          "name": "stderr",
          "output_type": "stream",
          "text": [
            "                                                                   \r"
          ]
        },
        {
          "name": "stdout",
          "output_type": "stream",
          "text": [
            "Epoch 22/200, Training Loss: 3.741751194000244, Validation Loss: 3.5257761478424072\n"
          ]
        },
        {
          "name": "stderr",
          "output_type": "stream",
          "text": [
            "                                                                   \r"
          ]
        },
        {
          "name": "stdout",
          "output_type": "stream",
          "text": [
            "Epoch 23/200, Training Loss: 3.616652250289917, Validation Loss: 3.2840495109558105\n"
          ]
        },
        {
          "name": "stderr",
          "output_type": "stream",
          "text": [
            "                                                                   \r"
          ]
        },
        {
          "name": "stdout",
          "output_type": "stream",
          "text": [
            "Epoch 24/200, Training Loss: 3.1290955543518066, Validation Loss: 2.910628318786621\n"
          ]
        },
        {
          "name": "stderr",
          "output_type": "stream",
          "text": [
            "                                                                   \r"
          ]
        },
        {
          "name": "stdout",
          "output_type": "stream",
          "text": [
            "Epoch 25/200, Training Loss: 2.927856922149658, Validation Loss: 2.7716293334960938\n"
          ]
        },
        {
          "name": "stderr",
          "output_type": "stream",
          "text": [
            "                                                                   \r"
          ]
        },
        {
          "name": "stdout",
          "output_type": "stream",
          "text": [
            "Epoch 26/200, Training Loss: 3.612657308578491, Validation Loss: 2.7885780334472656\n"
          ]
        },
        {
          "name": "stderr",
          "output_type": "stream",
          "text": [
            "                                                                  \r"
          ]
        },
        {
          "name": "stdout",
          "output_type": "stream",
          "text": [
            "Epoch 27/200, Training Loss: 2.9025590419769287, Validation Loss: 3.077138900756836\n"
          ]
        },
        {
          "name": "stderr",
          "output_type": "stream",
          "text": [
            "                                                                   \r"
          ]
        },
        {
          "name": "stdout",
          "output_type": "stream",
          "text": [
            "Epoch 28/200, Training Loss: 2.9713032245635986, Validation Loss: 3.1967368125915527\n"
          ]
        },
        {
          "name": "stderr",
          "output_type": "stream",
          "text": [
            "                                                                  \r"
          ]
        },
        {
          "name": "stdout",
          "output_type": "stream",
          "text": [
            "Epoch 29/200, Training Loss: 3.1952366828918457, Validation Loss: 3.073835611343384\n"
          ]
        },
        {
          "name": "stderr",
          "output_type": "stream",
          "text": [
            "                                                                   \r"
          ]
        },
        {
          "name": "stdout",
          "output_type": "stream",
          "text": [
            "Epoch 30/200, Training Loss: 2.9543514251708984, Validation Loss: 2.841370105743408\n"
          ]
        },
        {
          "name": "stderr",
          "output_type": "stream",
          "text": [
            "                                                                   \r"
          ]
        },
        {
          "name": "stdout",
          "output_type": "stream",
          "text": [
            "Epoch 31/200, Training Loss: 3.114654779434204, Validation Loss: 2.6984665393829346\n"
          ]
        },
        {
          "name": "stderr",
          "output_type": "stream",
          "text": [
            "                                                                   \r"
          ]
        },
        {
          "name": "stdout",
          "output_type": "stream",
          "text": [
            "Epoch 32/200, Training Loss: 2.8488357067108154, Validation Loss: 2.5650808811187744\n"
          ]
        },
        {
          "name": "stderr",
          "output_type": "stream",
          "text": [
            "                                                                   \r"
          ]
        },
        {
          "name": "stdout",
          "output_type": "stream",
          "text": [
            "Epoch 33/200, Training Loss: 2.6374778747558594, Validation Loss: 2.421236753463745\n"
          ]
        },
        {
          "name": "stderr",
          "output_type": "stream",
          "text": [
            "                                                                   \r"
          ]
        },
        {
          "name": "stdout",
          "output_type": "stream",
          "text": [
            "Epoch 34/200, Training Loss: 2.5931994915008545, Validation Loss: 2.405463218688965\n"
          ]
        },
        {
          "name": "stderr",
          "output_type": "stream",
          "text": [
            "                                                                   \r"
          ]
        },
        {
          "name": "stdout",
          "output_type": "stream",
          "text": [
            "Epoch 35/200, Training Loss: 2.7410049438476562, Validation Loss: 2.4968924522399902\n"
          ]
        },
        {
          "name": "stderr",
          "output_type": "stream",
          "text": [
            "                                                                   \r"
          ]
        },
        {
          "name": "stdout",
          "output_type": "stream",
          "text": [
            "Epoch 36/200, Training Loss: 2.670271873474121, Validation Loss: 2.574406862258911\n"
          ]
        },
        {
          "name": "stderr",
          "output_type": "stream",
          "text": [
            "                                                                   \r"
          ]
        },
        {
          "name": "stdout",
          "output_type": "stream",
          "text": [
            "Epoch 37/200, Training Loss: 2.5643744468688965, Validation Loss: 2.5087921619415283\n"
          ]
        },
        {
          "name": "stderr",
          "output_type": "stream",
          "text": [
            "                                                                   "
          ]
        },
        {
          "name": "stdout",
          "output_type": "stream",
          "text": [
            "Epoch 38/200, Training Loss: 2.5497665405273438, Validation Loss: 2.330221652984619\n"
          ]
        },
        {
          "name": "stderr",
          "output_type": "stream",
          "text": [
            "                                                                   \r"
          ]
        },
        {
          "name": "stdout",
          "output_type": "stream",
          "text": [
            "Epoch 39/200, Training Loss: 2.4497973918914795, Validation Loss: 2.159182071685791\n"
          ]
        },
        {
          "name": "stderr",
          "output_type": "stream",
          "text": [
            "                                                                   \r"
          ]
        },
        {
          "name": "stdout",
          "output_type": "stream",
          "text": [
            "Epoch 40/200, Training Loss: 2.422288656234741, Validation Loss: 2.135990619659424\n"
          ]
        },
        {
          "name": "stderr",
          "output_type": "stream",
          "text": [
            "                                                                   \r"
          ]
        },
        {
          "name": "stdout",
          "output_type": "stream",
          "text": [
            "Epoch 41/200, Training Loss: 2.335487127304077, Validation Loss: 2.241793155670166\n"
          ]
        },
        {
          "name": "stderr",
          "output_type": "stream",
          "text": [
            "                                                                   \r"
          ]
        },
        {
          "name": "stdout",
          "output_type": "stream",
          "text": [
            "Epoch 42/200, Training Loss: 2.32881498336792, Validation Loss: 2.3610055446624756\n"
          ]
        },
        {
          "name": "stderr",
          "output_type": "stream",
          "text": [
            "                                                                   \r"
          ]
        },
        {
          "name": "stdout",
          "output_type": "stream",
          "text": [
            "Epoch 43/200, Training Loss: 2.320310354232788, Validation Loss: 2.368934154510498\n"
          ]
        },
        {
          "name": "stderr",
          "output_type": "stream",
          "text": [
            "                                                                   \r"
          ]
        },
        {
          "name": "stdout",
          "output_type": "stream",
          "text": [
            "Epoch 44/200, Training Loss: 2.3427348136901855, Validation Loss: 2.3130621910095215\n"
          ]
        },
        {
          "name": "stderr",
          "output_type": "stream",
          "text": [
            "                                                                   \r"
          ]
        },
        {
          "name": "stdout",
          "output_type": "stream",
          "text": [
            "Epoch 45/200, Training Loss: 2.2452096939086914, Validation Loss: 2.2309200763702393\n"
          ]
        },
        {
          "name": "stderr",
          "output_type": "stream",
          "text": [
            "                                                                   \r"
          ]
        },
        {
          "name": "stdout",
          "output_type": "stream",
          "text": [
            "Epoch 46/200, Training Loss: 2.246918201446533, Validation Loss: 2.1913352012634277\n"
          ]
        },
        {
          "name": "stderr",
          "output_type": "stream",
          "text": [
            "                                                                   \r"
          ]
        },
        {
          "name": "stdout",
          "output_type": "stream",
          "text": [
            "Epoch 47/200, Training Loss: 2.2153267860412598, Validation Loss: 2.1351304054260254\n"
          ]
        },
        {
          "name": "stderr",
          "output_type": "stream",
          "text": [
            "                                                                   \r"
          ]
        },
        {
          "name": "stdout",
          "output_type": "stream",
          "text": [
            "Epoch 48/200, Training Loss: 2.2349905967712402, Validation Loss: 2.1098361015319824\n"
          ]
        },
        {
          "name": "stderr",
          "output_type": "stream",
          "text": [
            "                                                                  \r"
          ]
        },
        {
          "name": "stdout",
          "output_type": "stream",
          "text": [
            "Epoch 49/200, Training Loss: 2.101702928543091, Validation Loss: 2.1187021732330322\n"
          ]
        },
        {
          "name": "stderr",
          "output_type": "stream",
          "text": [
            "                                                                   \r"
          ]
        },
        {
          "name": "stdout",
          "output_type": "stream",
          "text": [
            "Epoch 50/200, Training Loss: 2.125075340270996, Validation Loss: 2.138099431991577\n"
          ]
        },
        {
          "name": "stderr",
          "output_type": "stream",
          "text": [
            "                                                                   \r"
          ]
        },
        {
          "name": "stdout",
          "output_type": "stream",
          "text": [
            "Epoch 51/200, Training Loss: 2.172632932662964, Validation Loss: 2.1647748947143555\n"
          ]
        },
        {
          "name": "stderr",
          "output_type": "stream",
          "text": [
            "                                                                  \r"
          ]
        },
        {
          "name": "stdout",
          "output_type": "stream",
          "text": [
            "Epoch 52/200, Training Loss: 2.2961366176605225, Validation Loss: 2.1873552799224854\n"
          ]
        },
        {
          "name": "stderr",
          "output_type": "stream",
          "text": [
            "                                                                   \r"
          ]
        },
        {
          "name": "stdout",
          "output_type": "stream",
          "text": [
            "Epoch 53/200, Training Loss: 2.166116237640381, Validation Loss: 2.1992194652557373\n"
          ]
        },
        {
          "name": "stderr",
          "output_type": "stream",
          "text": [
            "                                                                   \r"
          ]
        },
        {
          "name": "stdout",
          "output_type": "stream",
          "text": [
            "Epoch 54/200, Training Loss: 2.2240097522735596, Validation Loss: 2.206315279006958\n"
          ]
        },
        {
          "name": "stderr",
          "output_type": "stream",
          "text": [
            "                                                                   \r"
          ]
        },
        {
          "name": "stdout",
          "output_type": "stream",
          "text": [
            "Epoch 55/200, Training Loss: 2.1772618293762207, Validation Loss: 2.160510540008545\n"
          ]
        },
        {
          "name": "stderr",
          "output_type": "stream",
          "text": [
            "                                                                   \r"
          ]
        },
        {
          "name": "stdout",
          "output_type": "stream",
          "text": [
            "Epoch 56/200, Training Loss: 2.1213886737823486, Validation Loss: 2.0792458057403564\n"
          ]
        },
        {
          "name": "stderr",
          "output_type": "stream",
          "text": [
            "                                                                   \r"
          ]
        },
        {
          "name": "stdout",
          "output_type": "stream",
          "text": [
            "Epoch 57/200, Training Loss: 2.181276321411133, Validation Loss: 2.084176778793335\n"
          ]
        },
        {
          "name": "stderr",
          "output_type": "stream",
          "text": [
            "                                                                   \r"
          ]
        },
        {
          "name": "stdout",
          "output_type": "stream",
          "text": [
            "Epoch 58/200, Training Loss: 2.2182729244232178, Validation Loss: 2.166896343231201\n"
          ]
        },
        {
          "name": "stderr",
          "output_type": "stream",
          "text": [
            "                                                                   \r"
          ]
        },
        {
          "name": "stdout",
          "output_type": "stream",
          "text": [
            "Epoch 59/200, Training Loss: 2.166245460510254, Validation Loss: 2.2076971530914307\n"
          ]
        },
        {
          "name": "stderr",
          "output_type": "stream",
          "text": [
            "                                                                   \r"
          ]
        },
        {
          "name": "stdout",
          "output_type": "stream",
          "text": [
            "Epoch 60/200, Training Loss: 2.2946081161499023, Validation Loss: 2.169046401977539\n"
          ]
        },
        {
          "name": "stderr",
          "output_type": "stream",
          "text": [
            "                                                                   \r"
          ]
        },
        {
          "name": "stdout",
          "output_type": "stream",
          "text": [
            "Epoch 61/200, Training Loss: 2.1687088012695312, Validation Loss: 2.0842983722686768\n"
          ]
        },
        {
          "name": "stderr",
          "output_type": "stream",
          "text": [
            "                                                                  \r"
          ]
        },
        {
          "name": "stdout",
          "output_type": "stream",
          "text": [
            "Epoch 62/200, Training Loss: 2.2957510948181152, Validation Loss: 2.095844268798828\n"
          ]
        },
        {
          "name": "stderr",
          "output_type": "stream",
          "text": [
            "                                                                   \r"
          ]
        },
        {
          "name": "stdout",
          "output_type": "stream",
          "text": [
            "Epoch 63/200, Training Loss: 2.444788694381714, Validation Loss: 2.226706027984619\n"
          ]
        },
        {
          "name": "stderr",
          "output_type": "stream",
          "text": [
            "                                                                   \r"
          ]
        },
        {
          "name": "stdout",
          "output_type": "stream",
          "text": [
            "Epoch 64/200, Training Loss: 2.2406625747680664, Validation Loss: 2.2746422290802\n"
          ]
        },
        {
          "name": "stderr",
          "output_type": "stream",
          "text": [
            "                                                                   \r"
          ]
        },
        {
          "name": "stdout",
          "output_type": "stream",
          "text": [
            "Epoch 65/200, Training Loss: 2.318115711212158, Validation Loss: 2.1453936100006104\n"
          ]
        },
        {
          "name": "stderr",
          "output_type": "stream",
          "text": [
            "                                                                   \r"
          ]
        },
        {
          "name": "stdout",
          "output_type": "stream",
          "text": [
            "Epoch 66/200, Training Loss: 2.388310432434082, Validation Loss: 2.1121373176574707\n"
          ]
        },
        {
          "name": "stderr",
          "output_type": "stream",
          "text": [
            "                                                                   \r"
          ]
        },
        {
          "name": "stdout",
          "output_type": "stream",
          "text": [
            "Epoch 67/200, Training Loss: 2.1148741245269775, Validation Loss: 2.048153877258301\n"
          ]
        },
        {
          "name": "stderr",
          "output_type": "stream",
          "text": [
            "                                                                   \r"
          ]
        },
        {
          "name": "stdout",
          "output_type": "stream",
          "text": [
            "Epoch 68/200, Training Loss: 2.1372432708740234, Validation Loss: 2.024836540222168\n"
          ]
        },
        {
          "name": "stderr",
          "output_type": "stream",
          "text": [
            "                                                                   \r"
          ]
        },
        {
          "name": "stdout",
          "output_type": "stream",
          "text": [
            "Epoch 69/200, Training Loss: 2.179452657699585, Validation Loss: 2.0286214351654053\n"
          ]
        },
        {
          "name": "stderr",
          "output_type": "stream",
          "text": [
            "                                                                   \r"
          ]
        },
        {
          "name": "stdout",
          "output_type": "stream",
          "text": [
            "Epoch 70/200, Training Loss: 2.1519346237182617, Validation Loss: 2.0888030529022217\n"
          ]
        },
        {
          "name": "stderr",
          "output_type": "stream",
          "text": [
            "                                                                   \r"
          ]
        },
        {
          "name": "stdout",
          "output_type": "stream",
          "text": [
            "Epoch 71/200, Training Loss: 2.275635004043579, Validation Loss: 2.26106858253479\n"
          ]
        },
        {
          "name": "stderr",
          "output_type": "stream",
          "text": [
            "                                                                   \r"
          ]
        },
        {
          "name": "stdout",
          "output_type": "stream",
          "text": [
            "Epoch 72/200, Training Loss: 2.275372266769409, Validation Loss: 2.192440986633301\n"
          ]
        },
        {
          "name": "stderr",
          "output_type": "stream",
          "text": [
            "                                                                   \r"
          ]
        },
        {
          "name": "stdout",
          "output_type": "stream",
          "text": [
            "Epoch 73/200, Training Loss: 2.271435022354126, Validation Loss: 2.0401177406311035\n"
          ]
        },
        {
          "name": "stderr",
          "output_type": "stream",
          "text": [
            "                                                                   \r"
          ]
        },
        {
          "name": "stdout",
          "output_type": "stream",
          "text": [
            "Epoch 74/200, Training Loss: 2.3395802974700928, Validation Loss: 2.0117549896240234\n"
          ]
        },
        {
          "name": "stderr",
          "output_type": "stream",
          "text": [
            "                                                                   \r"
          ]
        },
        {
          "name": "stdout",
          "output_type": "stream",
          "text": [
            "Epoch 75/200, Training Loss: 2.167562484741211, Validation Loss: 2.0269405841827393\n"
          ]
        },
        {
          "name": "stderr",
          "output_type": "stream",
          "text": [
            "                                                                   \r"
          ]
        },
        {
          "name": "stdout",
          "output_type": "stream",
          "text": [
            "Epoch 76/200, Training Loss: 2.1296603679656982, Validation Loss: 2.0496106147766113\n"
          ]
        },
        {
          "name": "stderr",
          "output_type": "stream",
          "text": [
            "                                                                  \r"
          ]
        },
        {
          "name": "stdout",
          "output_type": "stream",
          "text": [
            "Epoch 77/200, Training Loss: 2.2012624740600586, Validation Loss: 2.0698189735412598\n"
          ]
        },
        {
          "name": "stderr",
          "output_type": "stream",
          "text": [
            "                                                                   \r"
          ]
        },
        {
          "name": "stdout",
          "output_type": "stream",
          "text": [
            "Epoch 78/200, Training Loss: 2.1524085998535156, Validation Loss: 2.1003215312957764\n"
          ]
        },
        {
          "name": "stderr",
          "output_type": "stream",
          "text": [
            "                                                                   \r"
          ]
        },
        {
          "name": "stdout",
          "output_type": "stream",
          "text": [
            "Epoch 79/200, Training Loss: 2.123572826385498, Validation Loss: 2.0721449851989746\n"
          ]
        },
        {
          "name": "stderr",
          "output_type": "stream",
          "text": [
            "                                                                   \r"
          ]
        },
        {
          "name": "stdout",
          "output_type": "stream",
          "text": [
            "Epoch 80/200, Training Loss: 2.2260680198669434, Validation Loss: 2.0706214904785156\n"
          ]
        },
        {
          "name": "stderr",
          "output_type": "stream",
          "text": [
            "                                                                   \r"
          ]
        },
        {
          "name": "stdout",
          "output_type": "stream",
          "text": [
            "Epoch 81/200, Training Loss: 2.178821563720703, Validation Loss: 2.032939910888672\n"
          ]
        },
        {
          "name": "stderr",
          "output_type": "stream",
          "text": [
            "                                                                   \r"
          ]
        },
        {
          "name": "stdout",
          "output_type": "stream",
          "text": [
            "Epoch 82/200, Training Loss: 2.1736032962799072, Validation Loss: 2.0272531509399414\n"
          ]
        },
        {
          "name": "stderr",
          "output_type": "stream",
          "text": [
            "                                                                   \r"
          ]
        },
        {
          "name": "stdout",
          "output_type": "stream",
          "text": [
            "Epoch 83/200, Training Loss: 2.1211135387420654, Validation Loss: 2.0227134227752686\n"
          ]
        },
        {
          "name": "stderr",
          "output_type": "stream",
          "text": [
            "                                                                   \r"
          ]
        },
        {
          "name": "stdout",
          "output_type": "stream",
          "text": [
            "Epoch 84/200, Training Loss: 2.161088466644287, Validation Loss: 2.0296807289123535\n"
          ]
        },
        {
          "name": "stderr",
          "output_type": "stream",
          "text": [
            "                                                                   \r"
          ]
        },
        {
          "name": "stdout",
          "output_type": "stream",
          "text": [
            "Epoch 85/200, Training Loss: 2.2823660373687744, Validation Loss: 2.0236237049102783\n"
          ]
        },
        {
          "name": "stderr",
          "output_type": "stream",
          "text": [
            "                                                                   \r"
          ]
        },
        {
          "name": "stdout",
          "output_type": "stream",
          "text": [
            "Epoch 86/200, Training Loss: 2.3700218200683594, Validation Loss: 2.068372964859009\n"
          ]
        },
        {
          "name": "stderr",
          "output_type": "stream",
          "text": [
            "                                                                   \r"
          ]
        },
        {
          "name": "stdout",
          "output_type": "stream",
          "text": [
            "Epoch 87/200, Training Loss: 2.0607974529266357, Validation Loss: 2.0960500240325928\n"
          ]
        },
        {
          "name": "stderr",
          "output_type": "stream",
          "text": [
            "                                                                   \r"
          ]
        },
        {
          "name": "stdout",
          "output_type": "stream",
          "text": [
            "Epoch 88/200, Training Loss: 2.119929313659668, Validation Loss: 2.0619192123413086\n"
          ]
        },
        {
          "name": "stderr",
          "output_type": "stream",
          "text": [
            "                                                                   "
          ]
        },
        {
          "name": "stdout",
          "output_type": "stream",
          "text": [
            "Epoch 89/200, Training Loss: 2.1679000854492188, Validation Loss: 2.0020720958709717\n"
          ]
        },
        {
          "name": "stderr",
          "output_type": "stream",
          "text": [
            "                                                                   \r"
          ]
        },
        {
          "name": "stdout",
          "output_type": "stream",
          "text": [
            "Epoch 90/200, Training Loss: 2.108166217803955, Validation Loss: 1.9503830671310425\n"
          ]
        },
        {
          "name": "stderr",
          "output_type": "stream",
          "text": [
            "                                                                   \r"
          ]
        },
        {
          "name": "stdout",
          "output_type": "stream",
          "text": [
            "Epoch 91/200, Training Loss: 2.059544801712036, Validation Loss: 1.9373196363449097\n"
          ]
        },
        {
          "name": "stderr",
          "output_type": "stream",
          "text": [
            "                                                                  \r"
          ]
        },
        {
          "name": "stdout",
          "output_type": "stream",
          "text": [
            "Epoch 92/200, Training Loss: 2.1047415733337402, Validation Loss: 1.9418845176696777\n"
          ]
        },
        {
          "name": "stderr",
          "output_type": "stream",
          "text": [
            "                                                                   \r"
          ]
        },
        {
          "name": "stdout",
          "output_type": "stream",
          "text": [
            "Epoch 93/200, Training Loss: 2.184825897216797, Validation Loss: 2.0527749061584473\n"
          ]
        },
        {
          "name": "stderr",
          "output_type": "stream",
          "text": [
            "                                                                   \r"
          ]
        },
        {
          "name": "stdout",
          "output_type": "stream",
          "text": [
            "Epoch 94/200, Training Loss: 2.228666067123413, Validation Loss: 2.4774930477142334\n"
          ]
        },
        {
          "name": "stderr",
          "output_type": "stream",
          "text": [
            "                                                                   \r"
          ]
        },
        {
          "name": "stdout",
          "output_type": "stream",
          "text": [
            "Epoch 95/200, Training Loss: 2.3801567554473877, Validation Loss: 2.0953593254089355\n"
          ]
        },
        {
          "name": "stderr",
          "output_type": "stream",
          "text": [
            "                                                                   \r"
          ]
        },
        {
          "name": "stdout",
          "output_type": "stream",
          "text": [
            "Epoch 96/200, Training Loss: 2.222977876663208, Validation Loss: 1.9676984548568726\n"
          ]
        },
        {
          "name": "stderr",
          "output_type": "stream",
          "text": [
            "                                                                   \r"
          ]
        },
        {
          "name": "stdout",
          "output_type": "stream",
          "text": [
            "Epoch 97/200, Training Loss: 2.1165099143981934, Validation Loss: 1.9308491945266724\n"
          ]
        },
        {
          "name": "stderr",
          "output_type": "stream",
          "text": [
            "                                                                   \r"
          ]
        },
        {
          "name": "stdout",
          "output_type": "stream",
          "text": [
            "Epoch 98/200, Training Loss: 2.0805046558380127, Validation Loss: 1.9586187601089478\n"
          ]
        },
        {
          "name": "stderr",
          "output_type": "stream",
          "text": [
            "                                                                   \r"
          ]
        },
        {
          "name": "stdout",
          "output_type": "stream",
          "text": [
            "Epoch 99/200, Training Loss: 2.4162380695343018, Validation Loss: 1.9810943603515625\n"
          ]
        },
        {
          "name": "stderr",
          "output_type": "stream",
          "text": [
            "                                                                    \r"
          ]
        },
        {
          "name": "stdout",
          "output_type": "stream",
          "text": [
            "Epoch 100/200, Training Loss: 2.183969497680664, Validation Loss: 2.0846855640411377\n"
          ]
        },
        {
          "name": "stderr",
          "output_type": "stream",
          "text": [
            "                                                                   \r"
          ]
        },
        {
          "name": "stdout",
          "output_type": "stream",
          "text": [
            "Epoch 101/200, Training Loss: 2.103987455368042, Validation Loss: 2.1873438358306885\n"
          ]
        },
        {
          "name": "stderr",
          "output_type": "stream",
          "text": [
            "                                                                    \r"
          ]
        },
        {
          "name": "stdout",
          "output_type": "stream",
          "text": [
            "Epoch 102/200, Training Loss: 2.263962984085083, Validation Loss: 2.1962621212005615\n"
          ]
        },
        {
          "name": "stderr",
          "output_type": "stream",
          "text": [
            "                                                                    \r"
          ]
        },
        {
          "name": "stdout",
          "output_type": "stream",
          "text": [
            "Epoch 103/200, Training Loss: 2.2687699794769287, Validation Loss: 2.127786874771118\n"
          ]
        },
        {
          "name": "stderr",
          "output_type": "stream",
          "text": [
            "                                                                    \r"
          ]
        },
        {
          "name": "stdout",
          "output_type": "stream",
          "text": [
            "Epoch 104/200, Training Loss: 2.221269369125366, Validation Loss: 1.9806773662567139\n"
          ]
        },
        {
          "name": "stderr",
          "output_type": "stream",
          "text": [
            "                                                                    \r"
          ]
        },
        {
          "name": "stdout",
          "output_type": "stream",
          "text": [
            "Epoch 105/200, Training Loss: 2.0319809913635254, Validation Loss: 2.475651741027832\n"
          ]
        },
        {
          "name": "stderr",
          "output_type": "stream",
          "text": [
            "                                                                    \r"
          ]
        },
        {
          "name": "stdout",
          "output_type": "stream",
          "text": [
            "Epoch 106/200, Training Loss: 2.7358627319335938, Validation Loss: 1.9995477199554443\n"
          ]
        },
        {
          "name": "stderr",
          "output_type": "stream",
          "text": [
            "                                                                    \r"
          ]
        },
        {
          "name": "stdout",
          "output_type": "stream",
          "text": [
            "Epoch 107/200, Training Loss: 2.1155734062194824, Validation Loss: 2.0368947982788086\n"
          ]
        },
        {
          "name": "stderr",
          "output_type": "stream",
          "text": [
            "                                                                    \r"
          ]
        },
        {
          "name": "stdout",
          "output_type": "stream",
          "text": [
            "Epoch 108/200, Training Loss: 2.1174843311309814, Validation Loss: 2.0321671962738037\n"
          ]
        },
        {
          "name": "stderr",
          "output_type": "stream",
          "text": [
            "                                                                    \r"
          ]
        },
        {
          "name": "stdout",
          "output_type": "stream",
          "text": [
            "Epoch 109/200, Training Loss: 2.114250421524048, Validation Loss: 2.000190258026123\n"
          ]
        },
        {
          "name": "stderr",
          "output_type": "stream",
          "text": [
            "                                                                    \r"
          ]
        },
        {
          "name": "stdout",
          "output_type": "stream",
          "text": [
            "Epoch 110/200, Training Loss: 2.030225992202759, Validation Loss: 1.982367753982544\n"
          ]
        },
        {
          "name": "stderr",
          "output_type": "stream",
          "text": [
            "                                                                    \r"
          ]
        },
        {
          "name": "stdout",
          "output_type": "stream",
          "text": [
            "Epoch 111/200, Training Loss: 2.1478161811828613, Validation Loss: 1.968841314315796\n"
          ]
        },
        {
          "name": "stderr",
          "output_type": "stream",
          "text": [
            "                                                                    \r"
          ]
        },
        {
          "name": "stdout",
          "output_type": "stream",
          "text": [
            "Epoch 112/200, Training Loss: 2.161808967590332, Validation Loss: 2.0063517093658447\n"
          ]
        },
        {
          "name": "stderr",
          "output_type": "stream",
          "text": [
            "                                                                   \r"
          ]
        },
        {
          "name": "stdout",
          "output_type": "stream",
          "text": [
            "Epoch 113/200, Training Loss: 2.1036524772644043, Validation Loss: 2.021127223968506\n"
          ]
        },
        {
          "name": "stderr",
          "output_type": "stream",
          "text": [
            "                                                                    \r"
          ]
        },
        {
          "name": "stdout",
          "output_type": "stream",
          "text": [
            "Epoch 114/200, Training Loss: 2.0389204025268555, Validation Loss: 2.0106112957000732\n"
          ]
        },
        {
          "name": "stderr",
          "output_type": "stream",
          "text": [
            "                                                                    \r"
          ]
        },
        {
          "name": "stdout",
          "output_type": "stream",
          "text": [
            "Epoch 115/200, Training Loss: 2.0259814262390137, Validation Loss: 2.0014536380767822\n"
          ]
        },
        {
          "name": "stderr",
          "output_type": "stream",
          "text": [
            "                                                                    \r"
          ]
        },
        {
          "name": "stdout",
          "output_type": "stream",
          "text": [
            "Epoch 116/200, Training Loss: 2.1821980476379395, Validation Loss: 2.034395933151245\n"
          ]
        },
        {
          "name": "stderr",
          "output_type": "stream",
          "text": [
            "                                                                    \r"
          ]
        },
        {
          "name": "stdout",
          "output_type": "stream",
          "text": [
            "Epoch 117/200, Training Loss: 2.0122017860412598, Validation Loss: 2.0477118492126465\n"
          ]
        },
        {
          "name": "stderr",
          "output_type": "stream",
          "text": [
            "                                                                    \r"
          ]
        },
        {
          "name": "stdout",
          "output_type": "stream",
          "text": [
            "Epoch 118/200, Training Loss: 2.073512554168701, Validation Loss: 2.0372140407562256\n"
          ]
        },
        {
          "name": "stderr",
          "output_type": "stream",
          "text": [
            "                                                                    \r"
          ]
        },
        {
          "name": "stdout",
          "output_type": "stream",
          "text": [
            "Epoch 119/200, Training Loss: 2.1070992946624756, Validation Loss: 1.9979923963546753\n"
          ]
        },
        {
          "name": "stderr",
          "output_type": "stream",
          "text": [
            "                                                                    \r"
          ]
        },
        {
          "name": "stdout",
          "output_type": "stream",
          "text": [
            "Epoch 120/200, Training Loss: 2.023409843444824, Validation Loss: 1.9456934928894043\n"
          ]
        },
        {
          "name": "stderr",
          "output_type": "stream",
          "text": [
            "                                                                    \r"
          ]
        },
        {
          "name": "stdout",
          "output_type": "stream",
          "text": [
            "Epoch 121/200, Training Loss: 2.048107147216797, Validation Loss: 1.9016131162643433\n"
          ]
        },
        {
          "name": "stderr",
          "output_type": "stream",
          "text": [
            "                                                                   \r"
          ]
        },
        {
          "name": "stdout",
          "output_type": "stream",
          "text": [
            "Epoch 122/200, Training Loss: 2.2037720680236816, Validation Loss: 1.885758399963379\n"
          ]
        },
        {
          "name": "stderr",
          "output_type": "stream",
          "text": [
            "                                                                    \r"
          ]
        },
        {
          "name": "stdout",
          "output_type": "stream",
          "text": [
            "Epoch 123/200, Training Loss: 2.0156848430633545, Validation Loss: 1.8826736211776733\n"
          ]
        },
        {
          "name": "stderr",
          "output_type": "stream",
          "text": [
            "                                                                    \r"
          ]
        },
        {
          "name": "stdout",
          "output_type": "stream",
          "text": [
            "Epoch 124/200, Training Loss: 2.1752023696899414, Validation Loss: 1.8920199871063232\n"
          ]
        },
        {
          "name": "stderr",
          "output_type": "stream",
          "text": [
            "                                                                    \r"
          ]
        },
        {
          "name": "stdout",
          "output_type": "stream",
          "text": [
            "Epoch 125/200, Training Loss: 2.1455392837524414, Validation Loss: 1.9225068092346191\n"
          ]
        },
        {
          "name": "stderr",
          "output_type": "stream",
          "text": [
            "                                                                    \r"
          ]
        },
        {
          "name": "stdout",
          "output_type": "stream",
          "text": [
            "Epoch 126/200, Training Loss: 2.0066285133361816, Validation Loss: 1.952532410621643\n"
          ]
        },
        {
          "name": "stderr",
          "output_type": "stream",
          "text": [
            "                                                                    \r"
          ]
        },
        {
          "name": "stdout",
          "output_type": "stream",
          "text": [
            "Epoch 127/200, Training Loss: 2.0680623054504395, Validation Loss: 1.9434516429901123\n"
          ]
        },
        {
          "name": "stderr",
          "output_type": "stream",
          "text": [
            "                                                                    \r"
          ]
        },
        {
          "name": "stdout",
          "output_type": "stream",
          "text": [
            "Epoch 128/200, Training Loss: 2.064364433288574, Validation Loss: 1.9590615034103394\n"
          ]
        },
        {
          "name": "stderr",
          "output_type": "stream",
          "text": [
            "                                                                    \r"
          ]
        },
        {
          "name": "stdout",
          "output_type": "stream",
          "text": [
            "Epoch 129/200, Training Loss: 2.1170194149017334, Validation Loss: 1.9673876762390137\n"
          ]
        },
        {
          "name": "stderr",
          "output_type": "stream",
          "text": [
            "                                                                    \r"
          ]
        },
        {
          "name": "stdout",
          "output_type": "stream",
          "text": [
            "Epoch 130/200, Training Loss: 2.0493240356445312, Validation Loss: 1.9330331087112427\n"
          ]
        },
        {
          "name": "stderr",
          "output_type": "stream",
          "text": [
            "                                                                    \r"
          ]
        },
        {
          "name": "stdout",
          "output_type": "stream",
          "text": [
            "Epoch 131/200, Training Loss: 1.9821147918701172, Validation Loss: 1.9212440252304077\n"
          ]
        },
        {
          "name": "stderr",
          "output_type": "stream",
          "text": [
            "                                                                    \r"
          ]
        },
        {
          "name": "stdout",
          "output_type": "stream",
          "text": [
            "Epoch 132/200, Training Loss: 2.051359176635742, Validation Loss: 1.9195530414581299\n"
          ]
        },
        {
          "name": "stderr",
          "output_type": "stream",
          "text": [
            "                                                                    \r"
          ]
        },
        {
          "name": "stdout",
          "output_type": "stream",
          "text": [
            "Epoch 133/200, Training Loss: 2.033560037612915, Validation Loss: 1.9410574436187744\n"
          ]
        },
        {
          "name": "stderr",
          "output_type": "stream",
          "text": [
            "                                                                    \r"
          ]
        },
        {
          "name": "stdout",
          "output_type": "stream",
          "text": [
            "Epoch 134/200, Training Loss: 2.0075724124908447, Validation Loss: 1.9352740049362183\n"
          ]
        },
        {
          "name": "stderr",
          "output_type": "stream",
          "text": [
            "                                                                 \r"
          ]
        },
        {
          "name": "stdout",
          "output_type": "stream",
          "text": [
            "Epoch 135/200, Training Loss: 2.00150728225708, Validation Loss: 1.9142730236053467\n"
          ]
        },
        {
          "name": "stderr",
          "output_type": "stream",
          "text": [
            "                                                                    \r"
          ]
        },
        {
          "name": "stdout",
          "output_type": "stream",
          "text": [
            "Epoch 136/200, Training Loss: 2.0189828872680664, Validation Loss: 1.903929352760315\n"
          ]
        },
        {
          "name": "stderr",
          "output_type": "stream",
          "text": [
            "                                                                 \r"
          ]
        },
        {
          "name": "stdout",
          "output_type": "stream",
          "text": [
            "Epoch 137/200, Training Loss: 1.997889518737793, Validation Loss: 1.9028966426849365\n"
          ]
        },
        {
          "name": "stderr",
          "output_type": "stream",
          "text": [
            "                                                                    \r"
          ]
        },
        {
          "name": "stdout",
          "output_type": "stream",
          "text": [
            "Epoch 138/200, Training Loss: 2.007667303085327, Validation Loss: 1.9073349237442017\n"
          ]
        },
        {
          "name": "stderr",
          "output_type": "stream",
          "text": [
            "                                                                   \r"
          ]
        },
        {
          "name": "stdout",
          "output_type": "stream",
          "text": [
            "Epoch 139/200, Training Loss: 2.0997486114501953, Validation Loss: 1.9363934993743896\n"
          ]
        },
        {
          "name": "stderr",
          "output_type": "stream",
          "text": [
            "                                                                    \r"
          ]
        },
        {
          "name": "stdout",
          "output_type": "stream",
          "text": [
            "Epoch 140/200, Training Loss: 2.1906449794769287, Validation Loss: 1.9966778755187988\n"
          ]
        },
        {
          "name": "stderr",
          "output_type": "stream",
          "text": [
            "                                                                    \r"
          ]
        },
        {
          "name": "stdout",
          "output_type": "stream",
          "text": [
            "Epoch 141/200, Training Loss: 2.024179220199585, Validation Loss: 2.0377910137176514\n"
          ]
        },
        {
          "name": "stderr",
          "output_type": "stream",
          "text": [
            "                                                                    \r"
          ]
        },
        {
          "name": "stdout",
          "output_type": "stream",
          "text": [
            "Epoch 142/200, Training Loss: 2.1314430236816406, Validation Loss: 2.0500855445861816\n"
          ]
        },
        {
          "name": "stderr",
          "output_type": "stream",
          "text": [
            "                                                                   \r"
          ]
        },
        {
          "name": "stdout",
          "output_type": "stream",
          "text": [
            "Epoch 143/200, Training Loss: 2.103630304336548, Validation Loss: 2.009730339050293\n"
          ]
        },
        {
          "name": "stderr",
          "output_type": "stream",
          "text": [
            "                                                                    \r"
          ]
        },
        {
          "name": "stdout",
          "output_type": "stream",
          "text": [
            "Epoch 144/200, Training Loss: 2.0633223056793213, Validation Loss: 1.9927635192871094\n"
          ]
        },
        {
          "name": "stderr",
          "output_type": "stream",
          "text": [
            "                                                                 \r"
          ]
        },
        {
          "name": "stdout",
          "output_type": "stream",
          "text": [
            "Epoch 145/200, Training Loss: 2.0029561519622803, Validation Loss: 1.9928678274154663\n"
          ]
        },
        {
          "name": "stderr",
          "output_type": "stream",
          "text": [
            "                                                                    \r"
          ]
        },
        {
          "name": "stdout",
          "output_type": "stream",
          "text": [
            "Epoch 146/200, Training Loss: 2.1275033950805664, Validation Loss: 1.962499737739563\n"
          ]
        },
        {
          "name": "stderr",
          "output_type": "stream",
          "text": [
            "                                                                    \r"
          ]
        },
        {
          "name": "stdout",
          "output_type": "stream",
          "text": [
            "Epoch 147/200, Training Loss: 2.0777454376220703, Validation Loss: 1.9119408130645752\n"
          ]
        },
        {
          "name": "stderr",
          "output_type": "stream",
          "text": [
            "                                                                    \r"
          ]
        },
        {
          "name": "stdout",
          "output_type": "stream",
          "text": [
            "Epoch 148/200, Training Loss: 2.0613813400268555, Validation Loss: 1.9081369638442993\n"
          ]
        },
        {
          "name": "stderr",
          "output_type": "stream",
          "text": [
            "                                                                    \r"
          ]
        },
        {
          "name": "stdout",
          "output_type": "stream",
          "text": [
            "Epoch 149/200, Training Loss: 2.0642170906066895, Validation Loss: 1.9536062479019165\n"
          ]
        },
        {
          "name": "stderr",
          "output_type": "stream",
          "text": [
            "                                                                    \r"
          ]
        },
        {
          "name": "stdout",
          "output_type": "stream",
          "text": [
            "Epoch 150/200, Training Loss: 2.120424509048462, Validation Loss: 1.9636693000793457\n"
          ]
        },
        {
          "name": "stderr",
          "output_type": "stream",
          "text": [
            "                                                                    \r"
          ]
        },
        {
          "name": "stdout",
          "output_type": "stream",
          "text": [
            "Epoch 151/200, Training Loss: 2.010169506072998, Validation Loss: 1.9412329196929932\n"
          ]
        },
        {
          "name": "stderr",
          "output_type": "stream",
          "text": [
            "                                                                    \r"
          ]
        },
        {
          "name": "stdout",
          "output_type": "stream",
          "text": [
            "Epoch 152/200, Training Loss: 2.1838865280151367, Validation Loss: 1.9322270154953003\n"
          ]
        },
        {
          "name": "stderr",
          "output_type": "stream",
          "text": [
            "                                                                    \r"
          ]
        },
        {
          "name": "stdout",
          "output_type": "stream",
          "text": [
            "Epoch 153/200, Training Loss: 2.0177674293518066, Validation Loss: 1.9779586791992188\n"
          ]
        },
        {
          "name": "stderr",
          "output_type": "stream",
          "text": [
            "                                                                    \r"
          ]
        },
        {
          "name": "stdout",
          "output_type": "stream",
          "text": [
            "Epoch 154/200, Training Loss: 2.1063084602355957, Validation Loss: 2.022526502609253\n"
          ]
        },
        {
          "name": "stderr",
          "output_type": "stream",
          "text": [
            "                                                                    \r"
          ]
        },
        {
          "name": "stdout",
          "output_type": "stream",
          "text": [
            "Epoch 155/200, Training Loss: 2.0276010036468506, Validation Loss: 2.033473014831543\n"
          ]
        },
        {
          "name": "stderr",
          "output_type": "stream",
          "text": [
            "                                                                    \r"
          ]
        },
        {
          "name": "stdout",
          "output_type": "stream",
          "text": [
            "Epoch 156/200, Training Loss: 2.0598409175872803, Validation Loss: 2.0113749504089355\n"
          ]
        },
        {
          "name": "stderr",
          "output_type": "stream",
          "text": [
            "                                                                    \r"
          ]
        },
        {
          "name": "stdout",
          "output_type": "stream",
          "text": [
            "Epoch 157/200, Training Loss: 2.051138401031494, Validation Loss: 1.9814720153808594\n"
          ]
        },
        {
          "name": "stderr",
          "output_type": "stream",
          "text": [
            "                                                                    \r"
          ]
        },
        {
          "name": "stdout",
          "output_type": "stream",
          "text": [
            "Epoch 158/200, Training Loss: 2.0605368614196777, Validation Loss: 1.962384581565857\n"
          ]
        },
        {
          "name": "stderr",
          "output_type": "stream",
          "text": [
            "                                                                 \r"
          ]
        },
        {
          "name": "stdout",
          "output_type": "stream",
          "text": [
            "Epoch 159/200, Training Loss: 2.0017549991607666, Validation Loss: 1.962897777557373\n"
          ]
        },
        {
          "name": "stderr",
          "output_type": "stream",
          "text": [
            "                                                                 \r"
          ]
        },
        {
          "name": "stdout",
          "output_type": "stream",
          "text": [
            "Epoch 160/200, Training Loss: 2.0034027099609375, Validation Loss: 1.960888385772705\n"
          ]
        },
        {
          "name": "stderr",
          "output_type": "stream",
          "text": [
            "                                                                    \r"
          ]
        },
        {
          "name": "stdout",
          "output_type": "stream",
          "text": [
            "Epoch 161/200, Training Loss: 2.065612554550171, Validation Loss: 1.9911837577819824\n"
          ]
        },
        {
          "name": "stderr",
          "output_type": "stream",
          "text": [
            "                                                                    \r"
          ]
        },
        {
          "name": "stdout",
          "output_type": "stream",
          "text": [
            "Epoch 162/200, Training Loss: 2.0857887268066406, Validation Loss: 1.9494397640228271\n"
          ]
        },
        {
          "name": "stderr",
          "output_type": "stream",
          "text": [
            "                                                                    \r"
          ]
        },
        {
          "name": "stdout",
          "output_type": "stream",
          "text": [
            "Epoch 163/200, Training Loss: 2.0594613552093506, Validation Loss: 1.92827570438385\n"
          ]
        },
        {
          "name": "stderr",
          "output_type": "stream",
          "text": [
            "                                                                    \r"
          ]
        },
        {
          "name": "stdout",
          "output_type": "stream",
          "text": [
            "Epoch 164/200, Training Loss: 1.9629563093185425, Validation Loss: 1.9338018894195557\n"
          ]
        },
        {
          "name": "stderr",
          "output_type": "stream",
          "text": [
            "                                                                    \r"
          ]
        },
        {
          "name": "stdout",
          "output_type": "stream",
          "text": [
            "Epoch 165/200, Training Loss: 2.033372640609741, Validation Loss: 1.9622336626052856\n"
          ]
        },
        {
          "name": "stderr",
          "output_type": "stream",
          "text": [
            "                                                                    \r"
          ]
        },
        {
          "name": "stdout",
          "output_type": "stream",
          "text": [
            "Epoch 166/200, Training Loss: 2.194901466369629, Validation Loss: 1.9536070823669434\n"
          ]
        },
        {
          "name": "stderr",
          "output_type": "stream",
          "text": [
            "                                                                    \r"
          ]
        },
        {
          "name": "stdout",
          "output_type": "stream",
          "text": [
            "Epoch 167/200, Training Loss: 2.0218822956085205, Validation Loss: 1.9399464130401611\n"
          ]
        },
        {
          "name": "stderr",
          "output_type": "stream",
          "text": [
            "                                                                    \r"
          ]
        },
        {
          "name": "stdout",
          "output_type": "stream",
          "text": [
            "Epoch 168/200, Training Loss: 2.235686779022217, Validation Loss: 1.965159296989441\n"
          ]
        },
        {
          "name": "stderr",
          "output_type": "stream",
          "text": [
            "                                                                    \r"
          ]
        },
        {
          "name": "stdout",
          "output_type": "stream",
          "text": [
            "Epoch 169/200, Training Loss: 2.0790233612060547, Validation Loss: 1.9684605598449707\n"
          ]
        },
        {
          "name": "stderr",
          "output_type": "stream",
          "text": [
            "                                                                    \r"
          ]
        },
        {
          "name": "stdout",
          "output_type": "stream",
          "text": [
            "Epoch 170/200, Training Loss: 2.0175747871398926, Validation Loss: 1.9540321826934814\n"
          ]
        },
        {
          "name": "stderr",
          "output_type": "stream",
          "text": [
            "                                                                    \r"
          ]
        },
        {
          "name": "stdout",
          "output_type": "stream",
          "text": [
            "Epoch 171/200, Training Loss: 2.0126194953918457, Validation Loss: 1.9472625255584717\n"
          ]
        },
        {
          "name": "stderr",
          "output_type": "stream",
          "text": [
            "                                                                    \r"
          ]
        },
        {
          "name": "stdout",
          "output_type": "stream",
          "text": [
            "Epoch 172/200, Training Loss: 2.1736228466033936, Validation Loss: 1.955026626586914\n"
          ]
        },
        {
          "name": "stderr",
          "output_type": "stream",
          "text": [
            "                                                                    \r"
          ]
        },
        {
          "name": "stdout",
          "output_type": "stream",
          "text": [
            "Epoch 173/200, Training Loss: 2.120978355407715, Validation Loss: 1.9517288208007812\n"
          ]
        },
        {
          "name": "stderr",
          "output_type": "stream",
          "text": [
            "                                                                    \r"
          ]
        },
        {
          "name": "stdout",
          "output_type": "stream",
          "text": [
            "Epoch 174/200, Training Loss: 2.0298314094543457, Validation Loss: 1.9601621627807617\n"
          ]
        },
        {
          "name": "stderr",
          "output_type": "stream",
          "text": [
            "                                                                    "
          ]
        },
        {
          "name": "stdout",
          "output_type": "stream",
          "text": [
            "Epoch 175/200, Training Loss: 2.0682713985443115, Validation Loss: 1.9642422199249268"
          ]
        },
        {
          "name": "stderr",
          "output_type": "stream",
          "text": [
            "\r"
          ]
        },
        {
          "name": "stdout",
          "output_type": "stream",
          "text": [
            "\n"
          ]
        },
        {
          "name": "stderr",
          "output_type": "stream",
          "text": [
            "                                                                    \r"
          ]
        },
        {
          "name": "stdout",
          "output_type": "stream",
          "text": [
            "Epoch 176/200, Training Loss: 2.185696601867676, Validation Loss: 1.9491946697235107\n"
          ]
        },
        {
          "name": "stderr",
          "output_type": "stream",
          "text": [
            "                                                                    \r"
          ]
        },
        {
          "name": "stdout",
          "output_type": "stream",
          "text": [
            "Epoch 177/200, Training Loss: 2.1390085220336914, Validation Loss: 1.944097876548767\n"
          ]
        },
        {
          "name": "stderr",
          "output_type": "stream",
          "text": [
            "                                                                    \r"
          ]
        },
        {
          "name": "stdout",
          "output_type": "stream",
          "text": [
            "Epoch 178/200, Training Loss: 2.0103540420532227, Validation Loss: 1.9457199573516846\n"
          ]
        },
        {
          "name": "stderr",
          "output_type": "stream",
          "text": [
            "                                                                    \r"
          ]
        },
        {
          "name": "stdout",
          "output_type": "stream",
          "text": [
            "Epoch 179/200, Training Loss: 2.0832388401031494, Validation Loss: 1.955091118812561\n"
          ]
        },
        {
          "name": "stderr",
          "output_type": "stream",
          "text": [
            "                                                                    \r"
          ]
        },
        {
          "name": "stdout",
          "output_type": "stream",
          "text": [
            "Epoch 180/200, Training Loss: 2.0331192016601562, Validation Loss: 1.9442801475524902\n"
          ]
        },
        {
          "name": "stderr",
          "output_type": "stream",
          "text": [
            "                                                                    \r"
          ]
        },
        {
          "name": "stdout",
          "output_type": "stream",
          "text": [
            "Epoch 181/200, Training Loss: 2.1117937564849854, Validation Loss: 1.946656346321106\n"
          ]
        },
        {
          "name": "stderr",
          "output_type": "stream",
          "text": [
            "                                                                    \r"
          ]
        },
        {
          "name": "stdout",
          "output_type": "stream",
          "text": [
            "Epoch 182/200, Training Loss: 2.0195281505584717, Validation Loss: 1.9440053701400757\n"
          ]
        },
        {
          "name": "stderr",
          "output_type": "stream",
          "text": [
            "                                                                    \r"
          ]
        },
        {
          "name": "stdout",
          "output_type": "stream",
          "text": [
            "Epoch 183/200, Training Loss: 2.0485754013061523, Validation Loss: 1.9480592012405396\n"
          ]
        },
        {
          "name": "stderr",
          "output_type": "stream",
          "text": [
            "                                                                    \r"
          ]
        },
        {
          "name": "stdout",
          "output_type": "stream",
          "text": [
            "Epoch 184/200, Training Loss: 2.065971612930298, Validation Loss: 1.9521617889404297\n"
          ]
        },
        {
          "name": "stderr",
          "output_type": "stream",
          "text": [
            "                                                                    \r"
          ]
        },
        {
          "name": "stdout",
          "output_type": "stream",
          "text": [
            "Epoch 185/200, Training Loss: 2.0582661628723145, Validation Loss: 1.94846510887146\n"
          ]
        },
        {
          "name": "stderr",
          "output_type": "stream",
          "text": [
            "                                                                    \r"
          ]
        },
        {
          "name": "stdout",
          "output_type": "stream",
          "text": [
            "Epoch 186/200, Training Loss: 2.0437798500061035, Validation Loss: 1.9468823671340942\n"
          ]
        },
        {
          "name": "stderr",
          "output_type": "stream",
          "text": [
            "                                                                    \r"
          ]
        },
        {
          "name": "stdout",
          "output_type": "stream",
          "text": [
            "Epoch 187/200, Training Loss: 1.9895888566970825, Validation Loss: 1.9348220825195312\n"
          ]
        },
        {
          "name": "stderr",
          "output_type": "stream",
          "text": [
            "                                                                    \r"
          ]
        },
        {
          "name": "stdout",
          "output_type": "stream",
          "text": [
            "Epoch 188/200, Training Loss: 1.977278232574463, Validation Loss: 1.9221351146697998\n"
          ]
        },
        {
          "name": "stderr",
          "output_type": "stream",
          "text": [
            "                                                                    \r"
          ]
        },
        {
          "name": "stdout",
          "output_type": "stream",
          "text": [
            "Epoch 189/200, Training Loss: 1.977530598640442, Validation Loss: 1.9083378314971924\n"
          ]
        },
        {
          "name": "stderr",
          "output_type": "stream",
          "text": [
            "                                                                    \r"
          ]
        },
        {
          "name": "stdout",
          "output_type": "stream",
          "text": [
            "Epoch 190/200, Training Loss: 2.0365395545959473, Validation Loss: 1.9003275632858276\n"
          ]
        },
        {
          "name": "stderr",
          "output_type": "stream",
          "text": [
            "                                                                    \r"
          ]
        },
        {
          "name": "stdout",
          "output_type": "stream",
          "text": [
            "Epoch 191/200, Training Loss: 1.9740874767303467, Validation Loss: 1.8935108184814453\n"
          ]
        },
        {
          "name": "stderr",
          "output_type": "stream",
          "text": [
            "                                                                    \r"
          ]
        },
        {
          "name": "stdout",
          "output_type": "stream",
          "text": [
            "Epoch 192/200, Training Loss: 2.0645487308502197, Validation Loss: 1.8909311294555664\n"
          ]
        },
        {
          "name": "stderr",
          "output_type": "stream",
          "text": [
            "                                                                    \r"
          ]
        },
        {
          "name": "stdout",
          "output_type": "stream",
          "text": [
            "Epoch 193/200, Training Loss: 2.058246374130249, Validation Loss: 1.9296681880950928\n"
          ]
        },
        {
          "name": "stderr",
          "output_type": "stream",
          "text": [
            "                                                                    \r"
          ]
        },
        {
          "name": "stdout",
          "output_type": "stream",
          "text": [
            "Epoch 194/200, Training Loss: 2.0542125701904297, Validation Loss: 1.903214693069458\n"
          ]
        },
        {
          "name": "stderr",
          "output_type": "stream",
          "text": [
            "                                                                   \r"
          ]
        },
        {
          "name": "stdout",
          "output_type": "stream",
          "text": [
            "Epoch 195/200, Training Loss: 2.1031124591827393, Validation Loss: 1.8947044610977173\n"
          ]
        },
        {
          "name": "stderr",
          "output_type": "stream",
          "text": [
            "                                                                    \r"
          ]
        },
        {
          "name": "stdout",
          "output_type": "stream",
          "text": [
            "Epoch 196/200, Training Loss: 2.2299771308898926, Validation Loss: 1.907730221748352\n"
          ]
        },
        {
          "name": "stderr",
          "output_type": "stream",
          "text": [
            "                                                                    \r"
          ]
        },
        {
          "name": "stdout",
          "output_type": "stream",
          "text": [
            "Epoch 197/200, Training Loss: 2.146874189376831, Validation Loss: 1.961092233657837\n"
          ]
        },
        {
          "name": "stderr",
          "output_type": "stream",
          "text": [
            "                                                                    \r"
          ]
        },
        {
          "name": "stdout",
          "output_type": "stream",
          "text": [
            "Epoch 198/200, Training Loss: 1.9773589372634888, Validation Loss: 1.9846410751342773\n"
          ]
        },
        {
          "name": "stderr",
          "output_type": "stream",
          "text": [
            "                                                                    \r"
          ]
        },
        {
          "name": "stdout",
          "output_type": "stream",
          "text": [
            "Epoch 199/200, Training Loss: 2.006676197052002, Validation Loss: 1.956526279449463\n"
          ]
        },
        {
          "name": "stderr",
          "output_type": "stream",
          "text": [
            "                                                                    \r"
          ]
        },
        {
          "name": "stdout",
          "output_type": "stream",
          "text": [
            "Epoch 200/200, Training Loss: 2.0131592750549316, Validation Loss: 1.9576191902160645\n",
            "Finished Training\n"
          ]
        }
      ],
      "source": [
        "from tqdm import tqdm\n",
        "\n",
        "epochs = 50\n",
        "train_losses = []\n",
        "val_losses = []\n",
        "\n",
        "torch.manual_seed(0)\n",
        "\n",
        "for epoch in range(epochs):\n",
        "    model.train()\n",
        "    train_loss = 0.0\n",
        "    num_batches = len(train_loader)\n",
        "    progress_bar = tqdm(enumerate(train_loader), total=num_batches, desc=f\"Epoch {epoch + 1}\", leave=False)\n",
        "\n",
        "    for i, data in progress_bar:\n",
        "        inputs, targets = data\n",
        "\n",
        "        optimizer.zero_grad()\n",
        "        outputs = model(inputs)\n",
        "        loss = criterion(outputs, targets)\n",
        "        loss.backward()\n",
        "        optimizer.step()\n",
        "\n",
        "        train_loss += loss.item()\n",
        "        progress_bar.set_postfix({\"training_loss\": train_loss / (i + 1)})\n",
        "\n",
        "    train_losses.append(train_loss / num_batches)\n",
        "\n",
        "    # Validation\n",
        "    model.eval()\n",
        "    val_loss = 0.0\n",
        "    num_batches_val = len(val_loader)\n",
        "\n",
        "    with torch.no_grad():\n",
        "        for i, data in enumerate(val_loader):\n",
        "            inputs, targets = data\n",
        "\n",
        "            outputs = model(inputs)\n",
        "            loss = criterion(outputs, targets)\n",
        "            val_loss += loss.item()\n",
        "\n",
        "    val_losses.append(val_loss / num_batches_val)\n",
        "\n",
        "    print(f\"Epoch {epoch + 1}/{epochs}, Training Loss: {train_losses[-1]}, Validation Loss: {val_losses[-1]}\")\n",
        "\n",
        "print(\"Finished Training\")\n",
        "\n",
        "# Save your trained model if needed\n",
        "torch.save(model.state_dict(), \"encDecModel.pth\")\n"
      ]
    },
    {
      "cell_type": "code",
      "execution_count": null,
      "metadata": {
        "colab": {
          "base_uri": "https://localhost:8080/"
        },
        "id": "3ebjbXc74dne",
        "outputId": "78d3993b-e034-4d50-c77f-21bb1f5f5837"
      },
      "outputs": [
        {
          "name": "stdout",
          "output_type": "stream",
          "text": [
            "Test loss: 1.9576191902160645\n",
            "Finished Testing\n"
          ]
        }
      ],
      "source": [
        "# Test the model\n",
        "model.eval()\n",
        "test_loss = 0.0\n",
        "with torch.no_grad():\n",
        "    for i, data in enumerate(test_loader, 0):\n",
        "        inputs, targets = data\n",
        "        # inputs, targets = inputs.to(device), targets.to(device)  # already moved to device in __getitem__\n",
        "        outputs = model(inputs)\n",
        "        loss = criterion(outputs, targets)\n",
        "        test_loss += loss.item()\n",
        "    print(f\"Test loss: {test_loss / len(test_loader)}\")\n",
        "print(\"Finished Testing\")"
      ]
    },
    {
      "cell_type": "code",
      "execution_count": null,
      "metadata": {},
      "outputs": [
        {
          "data": {
            "text/plain": [
              "{'Building Mass Decoder': ({'Bm Base Shape': tensor([[4.0746e-03, 9.9593e-01],\n",
              "           [6.6665e-04, 9.9933e-01],\n",
              "           [9.8423e-01, 1.5766e-02]], device='cuda:0')},\n",
              "  {'Bm Size': tensor([[0.2117, 0.5559, 0.4739],\n",
              "           [0.2136, 0.6243, 0.5328],\n",
              "           [0.5412, 0.4837, 0.1513]], device='cuda:0')}),\n",
              " 'Facade Decoder': ({},\n",
              "  {'Num Floors': tensor([[0.5225],\n",
              "           [0.5219],\n",
              "           [0.5234]], device='cuda:0'),\n",
              "   'Num Windows Each Side': tensor([[0.5306],\n",
              "           [0.5324],\n",
              "           [0.5318]], device='cuda:0')}),\n",
              " 'Floor Ledge Decoder': ({'Has Floor Ledge': tensor([[9.9953e-01, 4.7015e-04],\n",
              "           [1.2822e-04, 9.9987e-01],\n",
              "           [2.1094e-03, 9.9789e-01]], device='cuda:0')},\n",
              "  {'Floor Ledge Size X': tensor([[0.3526],\n",
              "           [0.4790],\n",
              "           [0.3921]], device='cuda:0'),\n",
              "   'Floor Ledge Size Z': tensor([[0.2641],\n",
              "           [0.2437],\n",
              "           [0.2185]], device='cuda:0'),\n",
              "   'Floor Ledge Extrusion X': tensor([[0.1203],\n",
              "           [0.1338],\n",
              "           [0.1289]], device='cuda:0'),\n",
              "   'Floor Ledge Extrusion Z': tensor([[0.2704],\n",
              "           [0.4021],\n",
              "           [0.3375]], device='cuda:0')}),\n",
              " 'Roof Decoder': ({'Rf Base Shape': tensor([[9.9589e-01, 9.6026e-04, 3.1516e-03],\n",
              "           [9.9939e-01, 1.1058e-04, 4.9710e-04],\n",
              "           [2.9318e-03, 9.1697e-04, 9.9615e-01]], device='cuda:0')},\n",
              "  {'Rf Size': tensor([[0.1239, 0.0374, 0.4957],\n",
              "           [0.1206, 0.0377, 0.5747],\n",
              "           [0.5412, 0.2533, 0.1127]], device='cuda:0')}),\n",
              " 'Window Ledge Decoder': ({'Has Window Ledge': tensor([[1.0000e+00, 4.8048e-10],\n",
              "           [1.0000e+00, 6.9457e-15],\n",
              "           [1.0000e+00, 1.5145e-09]], device='cuda:0')},\n",
              "  {'Window Ledge Shape Size': tensor([[0.0091, 0.0506, 0.0425],\n",
              "           [0.0235, 0.0513, 0.0470],\n",
              "           [0.0077, 0.0503, 0.0418]], device='cuda:0'),\n",
              "   'Window Ledge Extrusion X': tensor([[-0.0773],\n",
              "           [-0.0770],\n",
              "           [-0.0776]], device='cuda:0'),\n",
              "   'Window Ledge Extrusion Z': tensor([[-0.0090],\n",
              "           [-0.0144],\n",
              "           [-0.0085]], device='cuda:0'),\n",
              "   'Window Ledges Height Offset': tensor([[-0.0551],\n",
              "           [-0.0585],\n",
              "           [-0.0545]], device='cuda:0')}),\n",
              " 'Window Main Decoder': ({},\n",
              "  {'Windows Left Right Offset': tensor([[0.5285],\n",
              "           [0.5219],\n",
              "           [0.5307]], device='cuda:0'),\n",
              "   'Windows Height Offset': tensor([[0.1451],\n",
              "           [0.1451],\n",
              "           [0.1452]], device='cuda:0'),\n",
              "   'Window Shape Size': tensor([[0.8442, 0.9604, 0.3008],\n",
              "           [0.8398, 0.9549, 0.2994],\n",
              "           [0.6869, 0.7644, 0.2511]], device='cuda:0')}),\n",
              " 'Window Panel Decoder': ({'Window Divided Horizontal': tensor([[9.9996e-01, 3.9285e-05],\n",
              "           [1.1500e-03, 9.9885e-01],\n",
              "           [9.9739e-01, 2.6125e-03]], device='cuda:0'),\n",
              "   'Window Divided Vertical': tensor([[1.0228e-03, 9.9898e-01],\n",
              "           [3.6880e-04, 9.9963e-01],\n",
              "           [9.8450e-01, 1.5495e-02]], device='cuda:0')},\n",
              "  {'Window Panel Area': tensor([[0.4729, 0.4200, 0.3208],\n",
              "           [0.5494, 0.4232, 0.3584],\n",
              "           [0.5483, 0.5170, 0.3668]], device='cuda:0'),\n",
              "   'Window Interpanel Offset Percentage Y': tensor([[0.2726],\n",
              "           [0.2800],\n",
              "           [0.2675]], device='cuda:0'),\n",
              "   'Window Interpanel Offset Percentage Z': tensor([[0.2574],\n",
              "           [0.2636],\n",
              "           [0.2626]], device='cuda:0')})}"
            ]
          },
          "execution_count": 27,
          "metadata": {},
          "output_type": "execute_result"
        }
      ],
      "source": [
        "outputs"
      ]
    },
    {
      "cell_type": "code",
      "execution_count": null,
      "metadata": {},
      "outputs": [
        {
          "data": {
            "text/plain": [
              "{'Building Mass Decoder': {'classification_targets': {'Bm Base Shape': tensor([[0., 1.],\n",
              "           [0., 1.],\n",
              "           [1., 0.]], device='cuda:0')},\n",
              "  'regression_target': {'Bm Size': tensor([[0.2988, 0.7557, 0.6970],\n",
              "           [0.2652, 0.7625, 0.6274],\n",
              "           [0.9276, 0.7993, 0.0675]], device='cuda:0')}},\n",
              " 'Facade Decoder': {'classification_targets': {},\n",
              "  'regression_target': {'Num Floors': tensor([0.5000, 0.5000, 0.5000], device='cuda:0'),\n",
              "   'Num Windows Each Side': tensor([0.5000, 0.5000, 0.5000], device='cuda:0')}},\n",
              " 'Floor Ledge Decoder': {'classification_targets': {'Has Floor Ledge': tensor([[1., 0.],\n",
              "           [0., 1.],\n",
              "           [0., 1.]], device='cuda:0')},\n",
              "  'regression_target': {'Floor Ledge Size X': tensor([0.5630, 0.8778, 0.4430], device='cuda:0'),\n",
              "   'Floor Ledge Size Z': tensor([0.2744, 0.2707, 0.3260], device='cuda:0'),\n",
              "   'Floor Ledge Extrusion X': tensor([0.1379, 0.1396, 0.2135], device='cuda:0'),\n",
              "   'Floor Ledge Extrusion Z': tensor([0.3953, 0.4294, 0.3394], device='cuda:0')}},\n",
              " 'Roof Decoder': {'classification_targets': {'Rf Base Shape': tensor([[1., 0., 0.],\n",
              "           [1., 0., 0.],\n",
              "           [0., 0., 1.]], device='cuda:0')},\n",
              "  'regression_target': {'Rf Size': tensor([[0.0988, 0.0364, 0.8324],\n",
              "           [0.0642, 0.0820, 0.8219],\n",
              "           [0.7975, 0.3519, 0.1708]], device='cuda:0')}},\n",
              " 'Window Ledge Decoder': {'classification_targets': {'Has Window Ledge': tensor([[1., 0.],\n",
              "           [1., 0.],\n",
              "           [1., 0.]], device='cuda:0')},\n",
              "  'regression_target': {'Window Ledge Shape Size': tensor([[0.1017, 0.5129, 0.8238],\n",
              "           [0.1689, 0.5314, 0.8220],\n",
              "           [0.7376, 0.4486, 0.0081]], device='cuda:0'),\n",
              "   'Window Ledge Extrusion X': tensor([0.7035, 0.7872, 0.3566], device='cuda:0'),\n",
              "   'Window Ledge Extrusion Z': tensor([0.5631, 0.5584, 0.9097], device='cuda:0'),\n",
              "   'Window Ledges Height Offset': tensor([0.2444, 0.1306, 0.4021], device='cuda:0')}},\n",
              " 'Window Main Decoder': {'classification_targets': {},\n",
              "  'regression_target': {'Windows Left Right Offset': tensor([0.7904, 0.7808, 0.2265], device='cuda:0'),\n",
              "   'Windows Height Offset': tensor([0.0493, 0.0244, 0.3609], device='cuda:0'),\n",
              "   'Window Shape Size': tensor([[0.8100, 0.7198, 0.3048],\n",
              "           [0.8649, 0.7994, 0.3671],\n",
              "           [0.4068, 0.8504, 0.0915]], device='cuda:0')}},\n",
              " 'Window Panel Decoder': {'classification_targets': {'Window Divided Horizontal': tensor([[1., 0.],\n",
              "           [0., 1.],\n",
              "           [1., 0.]], device='cuda:0'),\n",
              "   'Window Divided Vertical': tensor([[0., 1.],\n",
              "           [0., 1.],\n",
              "           [1., 0.]], device='cuda:0')},\n",
              "  'regression_target': {'Window Panel Area': tensor([[0.7388, 0.5524, 0.3105],\n",
              "           [0.7814, 0.5176, 0.3808],\n",
              "           [0.8224, 0.8372, 0.4791]], device='cuda:0'),\n",
              "   'Window Interpanel Offset Percentage Y': tensor([0.4359, 0.4594, 0.3589], device='cuda:0'),\n",
              "   'Window Interpanel Offset Percentage Z': tensor([0.3754, 0.3421, 0.2588], device='cuda:0')}}}"
            ]
          },
          "execution_count": 28,
          "metadata": {},
          "output_type": "execute_result"
        }
      ],
      "source": [
        "targets"
      ]
    }
  ],
  "metadata": {
    "accelerator": "TPU",
    "colab": {
      "provenance": []
    },
    "kernelspec": {
      "display_name": "Python 3",
      "name": "python3"
    },
    "language_info": {
      "codemirror_mode": {
        "name": "ipython",
        "version": 3
      },
      "file_extension": ".py",
      "mimetype": "text/x-python",
      "name": "python",
      "nbconvert_exporter": "python",
      "pygments_lexer": "ipython3",
      "version": "3.10.13"
    }
  },
  "nbformat": 4,
  "nbformat_minor": 0
}
